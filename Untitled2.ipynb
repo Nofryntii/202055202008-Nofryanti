{
  "nbformat": 4,
  "nbformat_minor": 0,
  "metadata": {
    "colab": {
      "provenance": [],
      "authorship_tag": "ABX9TyPsOfhZDejbeuHXg2gSKUme",
      "include_colab_link": true
    },
    "kernelspec": {
      "name": "python3",
      "display_name": "Python 3"
    },
    "language_info": {
      "name": "python"
    }
  },
  "cells": [
    {
      "cell_type": "markdown",
      "metadata": {
        "id": "view-in-github",
        "colab_type": "text"
      },
      "source": [
        "<a href=\"https://colab.research.google.com/github/Nofryntii/202055202008-Nofryanti/blob/master/Untitled2.ipynb\" target=\"_parent\"><img src=\"https://colab.research.google.com/assets/colab-badge.svg\" alt=\"Open In Colab\"/></a>"
      ]
    },
    {
      "cell_type": "code",
      "source": [
        "!pip install mediapipe"
      ],
      "metadata": {
        "id": "_GQbaiSDNXGA",
        "collapsed": true,
        "colab": {
          "base_uri": "https://localhost:8080/"
        },
        "outputId": "a74aecde-7eac-427c-cd6c-5b8d539e2429"
      },
      "execution_count": 1,
      "outputs": [
        {
          "output_type": "stream",
          "name": "stdout",
          "text": [
            "Requirement already satisfied: mediapipe in /usr/local/lib/python3.11/dist-packages (0.10.21)\n",
            "Requirement already satisfied: absl-py in /usr/local/lib/python3.11/dist-packages (from mediapipe) (1.4.0)\n",
            "Requirement already satisfied: attrs>=19.1.0 in /usr/local/lib/python3.11/dist-packages (from mediapipe) (25.3.0)\n",
            "Requirement already satisfied: flatbuffers>=2.0 in /usr/local/lib/python3.11/dist-packages (from mediapipe) (25.2.10)\n",
            "Requirement already satisfied: jax in /usr/local/lib/python3.11/dist-packages (from mediapipe) (0.4.34)\n",
            "Requirement already satisfied: jaxlib in /usr/local/lib/python3.11/dist-packages (from mediapipe) (0.4.34)\n",
            "Requirement already satisfied: matplotlib in /usr/local/lib/python3.11/dist-packages (from mediapipe) (3.10.0)\n",
            "Requirement already satisfied: numpy<2 in /usr/local/lib/python3.11/dist-packages (from mediapipe) (1.26.4)\n",
            "Requirement already satisfied: opencv-contrib-python in /usr/local/lib/python3.11/dist-packages (from mediapipe) (4.11.0.86)\n",
            "Requirement already satisfied: protobuf<5,>=4.25.3 in /usr/local/lib/python3.11/dist-packages (from mediapipe) (4.25.6)\n",
            "Requirement already satisfied: sounddevice>=0.4.4 in /usr/local/lib/python3.11/dist-packages (from mediapipe) (0.5.1)\n",
            "Requirement already satisfied: sentencepiece in /usr/local/lib/python3.11/dist-packages (from mediapipe) (0.2.0)\n",
            "Requirement already satisfied: CFFI>=1.0 in /usr/local/lib/python3.11/dist-packages (from sounddevice>=0.4.4->mediapipe) (1.17.1)\n",
            "Requirement already satisfied: ml-dtypes>=0.2.0 in /usr/local/lib/python3.11/dist-packages (from jax->mediapipe) (0.2.0)\n",
            "Requirement already satisfied: opt-einsum in /usr/local/lib/python3.11/dist-packages (from jax->mediapipe) (3.4.0)\n",
            "Requirement already satisfied: scipy>=1.10 in /usr/local/lib/python3.11/dist-packages (from jax->mediapipe) (1.14.1)\n",
            "Requirement already satisfied: contourpy>=1.0.1 in /usr/local/lib/python3.11/dist-packages (from matplotlib->mediapipe) (1.3.1)\n",
            "Requirement already satisfied: cycler>=0.10 in /usr/local/lib/python3.11/dist-packages (from matplotlib->mediapipe) (0.12.1)\n",
            "Requirement already satisfied: fonttools>=4.22.0 in /usr/local/lib/python3.11/dist-packages (from matplotlib->mediapipe) (4.56.0)\n",
            "Requirement already satisfied: kiwisolver>=1.3.1 in /usr/local/lib/python3.11/dist-packages (from matplotlib->mediapipe) (1.4.8)\n",
            "Requirement already satisfied: packaging>=20.0 in /usr/local/lib/python3.11/dist-packages (from matplotlib->mediapipe) (24.2)\n",
            "Requirement already satisfied: pillow>=8 in /usr/local/lib/python3.11/dist-packages (from matplotlib->mediapipe) (11.1.0)\n",
            "Requirement already satisfied: pyparsing>=2.3.1 in /usr/local/lib/python3.11/dist-packages (from matplotlib->mediapipe) (3.2.1)\n",
            "Requirement already satisfied: python-dateutil>=2.7 in /usr/local/lib/python3.11/dist-packages (from matplotlib->mediapipe) (2.8.2)\n",
            "Requirement already satisfied: pycparser in /usr/local/lib/python3.11/dist-packages (from CFFI>=1.0->sounddevice>=0.4.4->mediapipe) (2.22)\n",
            "Requirement already satisfied: six>=1.5 in /usr/local/lib/python3.11/dist-packages (from python-dateutil>=2.7->matplotlib->mediapipe) (1.17.0)\n"
          ]
        }
      ]
    },
    {
      "cell_type": "code",
      "source": [
        "!pip install --upgrade pip\n",
        "!pip install mediapipe-model-maker"
      ],
      "metadata": {
        "id": "ZkdpuopONkKn",
        "collapsed": true,
        "colab": {
          "base_uri": "https://localhost:8080/"
        },
        "outputId": "bec3935b-90ba-4b01-8d5a-367a8703f93c"
      },
      "execution_count": 2,
      "outputs": [
        {
          "output_type": "stream",
          "name": "stdout",
          "text": [
            "Requirement already satisfied: pip in /usr/local/lib/python3.11/dist-packages (25.0.1)\n",
            "Requirement already satisfied: mediapipe-model-maker in /usr/local/lib/python3.11/dist-packages (0.2.1.4)\n",
            "Requirement already satisfied: absl-py in /usr/local/lib/python3.11/dist-packages (from mediapipe-model-maker) (1.4.0)\n",
            "Requirement already satisfied: mediapipe>=0.10.0 in /usr/local/lib/python3.11/dist-packages (from mediapipe-model-maker) (0.10.21)\n",
            "Requirement already satisfied: numpy in /usr/local/lib/python3.11/dist-packages (from mediapipe-model-maker) (1.26.4)\n",
            "Requirement already satisfied: opencv-python in /usr/local/lib/python3.11/dist-packages (from mediapipe-model-maker) (4.11.0.86)\n",
            "Requirement already satisfied: tensorflow<2.16,>=2.10 in /usr/local/lib/python3.11/dist-packages (from mediapipe-model-maker) (2.15.0)\n",
            "Requirement already satisfied: tensorflow-addons in /usr/local/lib/python3.11/dist-packages (from mediapipe-model-maker) (0.23.0)\n",
            "Requirement already satisfied: tensorflow-datasets in /usr/local/lib/python3.11/dist-packages (from mediapipe-model-maker) (4.9.8)\n",
            "Requirement already satisfied: tensorflow-hub in /usr/local/lib/python3.11/dist-packages (from mediapipe-model-maker) (0.16.1)\n",
            "Requirement already satisfied: tensorflow-model-optimization<0.8.0 in /usr/local/lib/python3.11/dist-packages (from mediapipe-model-maker) (0.7.5)\n",
            "Requirement already satisfied: tensorflow-text in /usr/local/lib/python3.11/dist-packages (from mediapipe-model-maker) (2.15.0)\n",
            "Requirement already satisfied: tf-models-official<2.16.0,>=2.13.2 in /usr/local/lib/python3.11/dist-packages (from mediapipe-model-maker) (2.15.0)\n",
            "Requirement already satisfied: attrs>=19.1.0 in /usr/local/lib/python3.11/dist-packages (from mediapipe>=0.10.0->mediapipe-model-maker) (25.3.0)\n",
            "Requirement already satisfied: flatbuffers>=2.0 in /usr/local/lib/python3.11/dist-packages (from mediapipe>=0.10.0->mediapipe-model-maker) (25.2.10)\n",
            "Requirement already satisfied: jax in /usr/local/lib/python3.11/dist-packages (from mediapipe>=0.10.0->mediapipe-model-maker) (0.4.34)\n",
            "Requirement already satisfied: jaxlib in /usr/local/lib/python3.11/dist-packages (from mediapipe>=0.10.0->mediapipe-model-maker) (0.4.34)\n",
            "Requirement already satisfied: matplotlib in /usr/local/lib/python3.11/dist-packages (from mediapipe>=0.10.0->mediapipe-model-maker) (3.10.0)\n",
            "Requirement already satisfied: opencv-contrib-python in /usr/local/lib/python3.11/dist-packages (from mediapipe>=0.10.0->mediapipe-model-maker) (4.11.0.86)\n",
            "Requirement already satisfied: protobuf<5,>=4.25.3 in /usr/local/lib/python3.11/dist-packages (from mediapipe>=0.10.0->mediapipe-model-maker) (4.25.6)\n",
            "Requirement already satisfied: sounddevice>=0.4.4 in /usr/local/lib/python3.11/dist-packages (from mediapipe>=0.10.0->mediapipe-model-maker) (0.5.1)\n",
            "Requirement already satisfied: sentencepiece in /usr/local/lib/python3.11/dist-packages (from mediapipe>=0.10.0->mediapipe-model-maker) (0.2.0)\n",
            "Requirement already satisfied: astunparse>=1.6.0 in /usr/local/lib/python3.11/dist-packages (from tensorflow<2.16,>=2.10->mediapipe-model-maker) (1.6.3)\n",
            "Requirement already satisfied: gast!=0.5.0,!=0.5.1,!=0.5.2,>=0.2.1 in /usr/local/lib/python3.11/dist-packages (from tensorflow<2.16,>=2.10->mediapipe-model-maker) (0.6.0)\n",
            "Requirement already satisfied: google-pasta>=0.1.1 in /usr/local/lib/python3.11/dist-packages (from tensorflow<2.16,>=2.10->mediapipe-model-maker) (0.2.0)\n",
            "Requirement already satisfied: h5py>=2.9.0 in /usr/local/lib/python3.11/dist-packages (from tensorflow<2.16,>=2.10->mediapipe-model-maker) (3.13.0)\n",
            "Requirement already satisfied: libclang>=13.0.0 in /usr/local/lib/python3.11/dist-packages (from tensorflow<2.16,>=2.10->mediapipe-model-maker) (18.1.1)\n",
            "Requirement already satisfied: ml-dtypes~=0.2.0 in /usr/local/lib/python3.11/dist-packages (from tensorflow<2.16,>=2.10->mediapipe-model-maker) (0.2.0)\n",
            "Requirement already satisfied: opt-einsum>=2.3.2 in /usr/local/lib/python3.11/dist-packages (from tensorflow<2.16,>=2.10->mediapipe-model-maker) (3.4.0)\n",
            "Requirement already satisfied: packaging in /usr/local/lib/python3.11/dist-packages (from tensorflow<2.16,>=2.10->mediapipe-model-maker) (24.2)\n",
            "Requirement already satisfied: setuptools in /usr/local/lib/python3.11/dist-packages (from tensorflow<2.16,>=2.10->mediapipe-model-maker) (75.1.0)\n",
            "Requirement already satisfied: six>=1.12.0 in /usr/local/lib/python3.11/dist-packages (from tensorflow<2.16,>=2.10->mediapipe-model-maker) (1.17.0)\n",
            "Requirement already satisfied: termcolor>=1.1.0 in /usr/local/lib/python3.11/dist-packages (from tensorflow<2.16,>=2.10->mediapipe-model-maker) (2.5.0)\n",
            "Requirement already satisfied: typing-extensions>=3.6.6 in /usr/local/lib/python3.11/dist-packages (from tensorflow<2.16,>=2.10->mediapipe-model-maker) (4.12.2)\n",
            "Requirement already satisfied: wrapt<1.15,>=1.11.0 in /usr/local/lib/python3.11/dist-packages (from tensorflow<2.16,>=2.10->mediapipe-model-maker) (1.14.1)\n",
            "Requirement already satisfied: tensorflow-io-gcs-filesystem>=0.23.1 in /usr/local/lib/python3.11/dist-packages (from tensorflow<2.16,>=2.10->mediapipe-model-maker) (0.37.1)\n",
            "Requirement already satisfied: grpcio<2.0,>=1.24.3 in /usr/local/lib/python3.11/dist-packages (from tensorflow<2.16,>=2.10->mediapipe-model-maker) (1.71.0)\n",
            "Requirement already satisfied: tensorboard<2.16,>=2.15 in /usr/local/lib/python3.11/dist-packages (from tensorflow<2.16,>=2.10->mediapipe-model-maker) (2.15.2)\n",
            "Requirement already satisfied: tensorflow-estimator<2.16,>=2.15.0 in /usr/local/lib/python3.11/dist-packages (from tensorflow<2.16,>=2.10->mediapipe-model-maker) (2.15.0)\n",
            "Requirement already satisfied: keras<2.16,>=2.15.0 in /usr/local/lib/python3.11/dist-packages (from tensorflow<2.16,>=2.10->mediapipe-model-maker) (2.15.0)\n",
            "Requirement already satisfied: dm-tree~=0.1.1 in /usr/local/lib/python3.11/dist-packages (from tensorflow-model-optimization<0.8.0->mediapipe-model-maker) (0.1.9)\n",
            "Requirement already satisfied: Cython in /usr/local/lib/python3.11/dist-packages (from tf-models-official<2.16.0,>=2.13.2->mediapipe-model-maker) (3.0.12)\n",
            "Requirement already satisfied: Pillow in /usr/local/lib/python3.11/dist-packages (from tf-models-official<2.16.0,>=2.13.2->mediapipe-model-maker) (11.1.0)\n",
            "Requirement already satisfied: gin-config in /usr/local/lib/python3.11/dist-packages (from tf-models-official<2.16.0,>=2.13.2->mediapipe-model-maker) (0.5.0)\n",
            "Requirement already satisfied: google-api-python-client>=1.6.7 in /usr/local/lib/python3.11/dist-packages (from tf-models-official<2.16.0,>=2.13.2->mediapipe-model-maker) (2.164.0)\n",
            "Requirement already satisfied: immutabledict in /usr/local/lib/python3.11/dist-packages (from tf-models-official<2.16.0,>=2.13.2->mediapipe-model-maker) (4.2.1)\n",
            "Requirement already satisfied: kaggle>=1.3.9 in /usr/local/lib/python3.11/dist-packages (from tf-models-official<2.16.0,>=2.13.2->mediapipe-model-maker) (1.7.4.2)\n",
            "Requirement already satisfied: oauth2client in /usr/local/lib/python3.11/dist-packages (from tf-models-official<2.16.0,>=2.13.2->mediapipe-model-maker) (4.1.3)\n",
            "Requirement already satisfied: opencv-python-headless in /usr/local/lib/python3.11/dist-packages (from tf-models-official<2.16.0,>=2.13.2->mediapipe-model-maker) (4.11.0.86)\n",
            "Requirement already satisfied: pandas>=0.22.0 in /usr/local/lib/python3.11/dist-packages (from tf-models-official<2.16.0,>=2.13.2->mediapipe-model-maker) (2.2.2)\n",
            "Requirement already satisfied: psutil>=5.4.3 in /usr/local/lib/python3.11/dist-packages (from tf-models-official<2.16.0,>=2.13.2->mediapipe-model-maker) (5.9.5)\n",
            "Requirement already satisfied: py-cpuinfo>=3.3.0 in /usr/local/lib/python3.11/dist-packages (from tf-models-official<2.16.0,>=2.13.2->mediapipe-model-maker) (9.0.0)\n",
            "Requirement already satisfied: pycocotools in /usr/local/lib/python3.11/dist-packages (from tf-models-official<2.16.0,>=2.13.2->mediapipe-model-maker) (2.0.8)\n",
            "Requirement already satisfied: pyyaml>=6.0.0 in /usr/local/lib/python3.11/dist-packages (from tf-models-official<2.16.0,>=2.13.2->mediapipe-model-maker) (6.0.2)\n",
            "Requirement already satisfied: sacrebleu in /usr/local/lib/python3.11/dist-packages (from tf-models-official<2.16.0,>=2.13.2->mediapipe-model-maker) (2.5.1)\n",
            "Requirement already satisfied: scipy>=0.19.1 in /usr/local/lib/python3.11/dist-packages (from tf-models-official<2.16.0,>=2.13.2->mediapipe-model-maker) (1.14.1)\n",
            "Requirement already satisfied: seqeval in /usr/local/lib/python3.11/dist-packages (from tf-models-official<2.16.0,>=2.13.2->mediapipe-model-maker) (1.2.2)\n",
            "Requirement already satisfied: tf-slim>=1.1.0 in /usr/local/lib/python3.11/dist-packages (from tf-models-official<2.16.0,>=2.13.2->mediapipe-model-maker) (1.1.0)\n",
            "Requirement already satisfied: tf-keras>=2.14.1 in /usr/local/lib/python3.11/dist-packages (from tensorflow-hub->mediapipe-model-maker) (2.15.1)\n",
            "Requirement already satisfied: typeguard<3.0.0,>=2.7 in /usr/local/lib/python3.11/dist-packages (from tensorflow-addons->mediapipe-model-maker) (2.13.3)\n",
            "Requirement already satisfied: array_record>=0.5.0 in /usr/local/lib/python3.11/dist-packages (from tensorflow-datasets->mediapipe-model-maker) (0.7.1)\n",
            "Requirement already satisfied: etils>=1.9.1 in /usr/local/lib/python3.11/dist-packages (from etils[edc,enp,epath,epy,etree]>=1.9.1; python_version >= \"3.11\"->tensorflow-datasets->mediapipe-model-maker) (1.12.2)\n",
            "Requirement already satisfied: promise in /usr/local/lib/python3.11/dist-packages (from tensorflow-datasets->mediapipe-model-maker) (2.3)\n",
            "Requirement already satisfied: pyarrow in /usr/local/lib/python3.11/dist-packages (from tensorflow-datasets->mediapipe-model-maker) (18.1.0)\n",
            "Requirement already satisfied: requests>=2.19.0 in /usr/local/lib/python3.11/dist-packages (from tensorflow-datasets->mediapipe-model-maker) (2.32.3)\n",
            "Requirement already satisfied: simple_parsing in /usr/local/lib/python3.11/dist-packages (from tensorflow-datasets->mediapipe-model-maker) (0.1.7)\n",
            "Requirement already satisfied: tensorflow-metadata in /usr/local/lib/python3.11/dist-packages (from tensorflow-datasets->mediapipe-model-maker) (1.16.1)\n",
            "Requirement already satisfied: toml in /usr/local/lib/python3.11/dist-packages (from tensorflow-datasets->mediapipe-model-maker) (0.10.2)\n",
            "Requirement already satisfied: tqdm in /usr/local/lib/python3.11/dist-packages (from tensorflow-datasets->mediapipe-model-maker) (4.67.1)\n",
            "Requirement already satisfied: wheel<1.0,>=0.23.0 in /usr/local/lib/python3.11/dist-packages (from astunparse>=1.6.0->tensorflow<2.16,>=2.10->mediapipe-model-maker) (0.45.1)\n",
            "Requirement already satisfied: einops in /usr/local/lib/python3.11/dist-packages (from etils[edc,enp,epath,epy,etree]>=1.9.1; python_version >= \"3.11\"->tensorflow-datasets->mediapipe-model-maker) (0.8.1)\n",
            "Requirement already satisfied: fsspec in /usr/local/lib/python3.11/dist-packages (from etils[edc,enp,epath,epy,etree]>=1.9.1; python_version >= \"3.11\"->tensorflow-datasets->mediapipe-model-maker) (2025.3.0)\n",
            "Requirement already satisfied: importlib_resources in /usr/local/lib/python3.11/dist-packages (from etils[edc,enp,epath,epy,etree]>=1.9.1; python_version >= \"3.11\"->tensorflow-datasets->mediapipe-model-maker) (6.5.2)\n",
            "Requirement already satisfied: zipp in /usr/local/lib/python3.11/dist-packages (from etils[edc,enp,epath,epy,etree]>=1.9.1; python_version >= \"3.11\"->tensorflow-datasets->mediapipe-model-maker) (3.21.0)\n",
            "Requirement already satisfied: httplib2<1.dev0,>=0.19.0 in /usr/local/lib/python3.11/dist-packages (from google-api-python-client>=1.6.7->tf-models-official<2.16.0,>=2.13.2->mediapipe-model-maker) (0.22.0)\n",
            "Requirement already satisfied: google-auth!=2.24.0,!=2.25.0,<3.0.0.dev0,>=1.32.0 in /usr/local/lib/python3.11/dist-packages (from google-api-python-client>=1.6.7->tf-models-official<2.16.0,>=2.13.2->mediapipe-model-maker) (2.38.0)\n",
            "Requirement already satisfied: google-auth-httplib2<1.0.0,>=0.2.0 in /usr/local/lib/python3.11/dist-packages (from google-api-python-client>=1.6.7->tf-models-official<2.16.0,>=2.13.2->mediapipe-model-maker) (0.2.0)\n",
            "Requirement already satisfied: google-api-core!=2.0.*,!=2.1.*,!=2.2.*,!=2.3.0,<3.0.0.dev0,>=1.31.5 in /usr/local/lib/python3.11/dist-packages (from google-api-python-client>=1.6.7->tf-models-official<2.16.0,>=2.13.2->mediapipe-model-maker) (2.24.2)\n",
            "Requirement already satisfied: uritemplate<5,>=3.0.1 in /usr/local/lib/python3.11/dist-packages (from google-api-python-client>=1.6.7->tf-models-official<2.16.0,>=2.13.2->mediapipe-model-maker) (4.1.1)\n",
            "Requirement already satisfied: bleach in /usr/local/lib/python3.11/dist-packages (from kaggle>=1.3.9->tf-models-official<2.16.0,>=2.13.2->mediapipe-model-maker) (6.2.0)\n",
            "Requirement already satisfied: certifi>=14.05.14 in /usr/local/lib/python3.11/dist-packages (from kaggle>=1.3.9->tf-models-official<2.16.0,>=2.13.2->mediapipe-model-maker) (2025.1.31)\n",
            "Requirement already satisfied: charset-normalizer in /usr/local/lib/python3.11/dist-packages (from kaggle>=1.3.9->tf-models-official<2.16.0,>=2.13.2->mediapipe-model-maker) (3.4.1)\n",
            "Requirement already satisfied: idna in /usr/local/lib/python3.11/dist-packages (from kaggle>=1.3.9->tf-models-official<2.16.0,>=2.13.2->mediapipe-model-maker) (3.10)\n",
            "Requirement already satisfied: python-dateutil>=2.5.3 in /usr/local/lib/python3.11/dist-packages (from kaggle>=1.3.9->tf-models-official<2.16.0,>=2.13.2->mediapipe-model-maker) (2.8.2)\n",
            "Requirement already satisfied: python-slugify in /usr/local/lib/python3.11/dist-packages (from kaggle>=1.3.9->tf-models-official<2.16.0,>=2.13.2->mediapipe-model-maker) (8.0.4)\n",
            "Requirement already satisfied: text-unidecode in /usr/local/lib/python3.11/dist-packages (from kaggle>=1.3.9->tf-models-official<2.16.0,>=2.13.2->mediapipe-model-maker) (1.3)\n",
            "Requirement already satisfied: urllib3>=1.15.1 in /usr/local/lib/python3.11/dist-packages (from kaggle>=1.3.9->tf-models-official<2.16.0,>=2.13.2->mediapipe-model-maker) (2.3.0)\n",
            "Requirement already satisfied: webencodings in /usr/local/lib/python3.11/dist-packages (from kaggle>=1.3.9->tf-models-official<2.16.0,>=2.13.2->mediapipe-model-maker) (0.5.1)\n",
            "Requirement already satisfied: pytz>=2020.1 in /usr/local/lib/python3.11/dist-packages (from pandas>=0.22.0->tf-models-official<2.16.0,>=2.13.2->mediapipe-model-maker) (2025.1)\n",
            "Requirement already satisfied: tzdata>=2022.7 in /usr/local/lib/python3.11/dist-packages (from pandas>=0.22.0->tf-models-official<2.16.0,>=2.13.2->mediapipe-model-maker) (2025.1)\n",
            "Requirement already satisfied: CFFI>=1.0 in /usr/local/lib/python3.11/dist-packages (from sounddevice>=0.4.4->mediapipe>=0.10.0->mediapipe-model-maker) (1.17.1)\n",
            "Requirement already satisfied: google-auth-oauthlib<2,>=0.5 in /usr/local/lib/python3.11/dist-packages (from tensorboard<2.16,>=2.15->tensorflow<2.16,>=2.10->mediapipe-model-maker) (1.2.1)\n",
            "Requirement already satisfied: markdown>=2.6.8 in /usr/local/lib/python3.11/dist-packages (from tensorboard<2.16,>=2.15->tensorflow<2.16,>=2.10->mediapipe-model-maker) (3.7)\n",
            "Requirement already satisfied: tensorboard-data-server<0.8.0,>=0.7.0 in /usr/local/lib/python3.11/dist-packages (from tensorboard<2.16,>=2.15->tensorflow<2.16,>=2.10->mediapipe-model-maker) (0.7.2)\n",
            "Requirement already satisfied: werkzeug>=1.0.1 in /usr/local/lib/python3.11/dist-packages (from tensorboard<2.16,>=2.15->tensorflow<2.16,>=2.10->mediapipe-model-maker) (3.1.3)\n",
            "Requirement already satisfied: contourpy>=1.0.1 in /usr/local/lib/python3.11/dist-packages (from matplotlib->mediapipe>=0.10.0->mediapipe-model-maker) (1.3.1)\n",
            "Requirement already satisfied: cycler>=0.10 in /usr/local/lib/python3.11/dist-packages (from matplotlib->mediapipe>=0.10.0->mediapipe-model-maker) (0.12.1)\n",
            "Requirement already satisfied: fonttools>=4.22.0 in /usr/local/lib/python3.11/dist-packages (from matplotlib->mediapipe>=0.10.0->mediapipe-model-maker) (4.56.0)\n",
            "Requirement already satisfied: kiwisolver>=1.3.1 in /usr/local/lib/python3.11/dist-packages (from matplotlib->mediapipe>=0.10.0->mediapipe-model-maker) (1.4.8)\n",
            "Requirement already satisfied: pyparsing>=2.3.1 in /usr/local/lib/python3.11/dist-packages (from matplotlib->mediapipe>=0.10.0->mediapipe-model-maker) (3.2.1)\n",
            "Requirement already satisfied: pyasn1>=0.1.7 in /usr/local/lib/python3.11/dist-packages (from oauth2client->tf-models-official<2.16.0,>=2.13.2->mediapipe-model-maker) (0.6.1)\n",
            "Requirement already satisfied: pyasn1-modules>=0.0.5 in /usr/local/lib/python3.11/dist-packages (from oauth2client->tf-models-official<2.16.0,>=2.13.2->mediapipe-model-maker) (0.4.1)\n",
            "Requirement already satisfied: rsa>=3.1.4 in /usr/local/lib/python3.11/dist-packages (from oauth2client->tf-models-official<2.16.0,>=2.13.2->mediapipe-model-maker) (4.9)\n",
            "Requirement already satisfied: portalocker in /usr/local/lib/python3.11/dist-packages (from sacrebleu->tf-models-official<2.16.0,>=2.13.2->mediapipe-model-maker) (3.1.1)\n",
            "Requirement already satisfied: regex in /usr/local/lib/python3.11/dist-packages (from sacrebleu->tf-models-official<2.16.0,>=2.13.2->mediapipe-model-maker) (2024.11.6)\n",
            "Requirement already satisfied: tabulate>=0.8.9 in /usr/local/lib/python3.11/dist-packages (from sacrebleu->tf-models-official<2.16.0,>=2.13.2->mediapipe-model-maker) (0.9.0)\n",
            "Requirement already satisfied: colorama in /usr/local/lib/python3.11/dist-packages (from sacrebleu->tf-models-official<2.16.0,>=2.13.2->mediapipe-model-maker) (0.4.6)\n",
            "Requirement already satisfied: lxml in /usr/local/lib/python3.11/dist-packages (from sacrebleu->tf-models-official<2.16.0,>=2.13.2->mediapipe-model-maker) (5.3.1)\n",
            "Requirement already satisfied: scikit-learn>=0.21.3 in /usr/local/lib/python3.11/dist-packages (from seqeval->tf-models-official<2.16.0,>=2.13.2->mediapipe-model-maker) (1.6.1)\n",
            "Requirement already satisfied: docstring-parser<1.0,>=0.15 in /usr/local/lib/python3.11/dist-packages (from simple_parsing->tensorflow-datasets->mediapipe-model-maker) (0.16)\n",
            "Requirement already satisfied: googleapis-common-protos<2,>=1.56.4 in /usr/local/lib/python3.11/dist-packages (from tensorflow-metadata->tensorflow-datasets->mediapipe-model-maker) (1.69.2)\n",
            "Requirement already satisfied: pycparser in /usr/local/lib/python3.11/dist-packages (from CFFI>=1.0->sounddevice>=0.4.4->mediapipe>=0.10.0->mediapipe-model-maker) (2.22)\n",
            "Requirement already satisfied: proto-plus<2.0.0,>=1.22.3 in /usr/local/lib/python3.11/dist-packages (from google-api-core!=2.0.*,!=2.1.*,!=2.2.*,!=2.3.0,<3.0.0.dev0,>=1.31.5->google-api-python-client>=1.6.7->tf-models-official<2.16.0,>=2.13.2->mediapipe-model-maker) (1.26.1)\n",
            "Requirement already satisfied: cachetools<6.0,>=2.0.0 in /usr/local/lib/python3.11/dist-packages (from google-auth!=2.24.0,!=2.25.0,<3.0.0.dev0,>=1.32.0->google-api-python-client>=1.6.7->tf-models-official<2.16.0,>=2.13.2->mediapipe-model-maker) (5.5.2)\n",
            "Requirement already satisfied: requests-oauthlib>=0.7.0 in /usr/local/lib/python3.11/dist-packages (from google-auth-oauthlib<2,>=0.5->tensorboard<2.16,>=2.15->tensorflow<2.16,>=2.10->mediapipe-model-maker) (2.0.0)\n",
            "Requirement already satisfied: joblib>=1.2.0 in /usr/local/lib/python3.11/dist-packages (from scikit-learn>=0.21.3->seqeval->tf-models-official<2.16.0,>=2.13.2->mediapipe-model-maker) (1.4.2)\n",
            "Requirement already satisfied: threadpoolctl>=3.1.0 in /usr/local/lib/python3.11/dist-packages (from scikit-learn>=0.21.3->seqeval->tf-models-official<2.16.0,>=2.13.2->mediapipe-model-maker) (3.6.0)\n",
            "Requirement already satisfied: MarkupSafe>=2.1.1 in /usr/local/lib/python3.11/dist-packages (from werkzeug>=1.0.1->tensorboard<2.16,>=2.15->tensorflow<2.16,>=2.10->mediapipe-model-maker) (3.0.2)\n",
            "Requirement already satisfied: oauthlib>=3.0.0 in /usr/local/lib/python3.11/dist-packages (from requests-oauthlib>=0.7.0->google-auth-oauthlib<2,>=0.5->tensorboard<2.16,>=2.15->tensorflow<2.16,>=2.10->mediapipe-model-maker) (3.2.2)\n"
          ]
        }
      ]
    },
    {
      "cell_type": "code",
      "source": [
        "# 1. Uninstall semua paket yang bermasalah\n",
        "!pip uninstall -y tensorflow keras tensorboard tensorflow-text tf-models-official mediapipe-model-maker jax ml-dtypes\n",
        "\n",
        "# 2. Install TensorFlow 2.15 dan dependensi yang sesuai\n",
        "!pip install tensorflow==2.15 tensorflow-text==2.15 tf-models-official==2.15 mediapipe-model-maker==0.2.1.4 ml-dtypes==0.2.0\n",
        "\n",
        "# 3. Install JAX versi yang kompatibel dengan TensorFlow 2.15\n",
        "!pip install jax==0.4.34\n"
      ],
      "metadata": {
        "colab": {
          "base_uri": "https://localhost:8080/"
        },
        "id": "PrG3AP9ojOBA",
        "outputId": "1b78eed6-9522-4930-a044-b1a9cc0e93b5"
      },
      "execution_count": 4,
      "outputs": [
        {
          "output_type": "stream",
          "name": "stdout",
          "text": [
            "Found existing installation: tensorflow 2.15.1\n",
            "Uninstalling tensorflow-2.15.1:\n",
            "  Successfully uninstalled tensorflow-2.15.1\n",
            "Found existing installation: keras 2.15.0\n",
            "Uninstalling keras-2.15.0:\n",
            "  Successfully uninstalled keras-2.15.0\n",
            "Found existing installation: tensorboard 2.15.2\n",
            "Uninstalling tensorboard-2.15.2:\n",
            "  Successfully uninstalled tensorboard-2.15.2\n",
            "Found existing installation: tensorflow-text 2.15.0\n",
            "Uninstalling tensorflow-text-2.15.0:\n",
            "  Successfully uninstalled tensorflow-text-2.15.0\n",
            "Found existing installation: tf-models-official 2.15.0\n",
            "Uninstalling tf-models-official-2.15.0:\n",
            "  Successfully uninstalled tf-models-official-2.15.0\n",
            "Found existing installation: mediapipe-model-maker 0.2.1.4\n",
            "Uninstalling mediapipe-model-maker-0.2.1.4:\n",
            "  Successfully uninstalled mediapipe-model-maker-0.2.1.4\n",
            "Found existing installation: jax 0.4.34\n",
            "Uninstalling jax-0.4.34:\n",
            "  Successfully uninstalled jax-0.4.34\n",
            "Found existing installation: ml-dtypes 0.3.2\n",
            "Uninstalling ml-dtypes-0.3.2:\n",
            "  Successfully uninstalled ml-dtypes-0.3.2\n",
            "Collecting tensorflow==2.15\n",
            "  Downloading tensorflow-2.15.0-cp311-cp311-manylinux_2_17_x86_64.manylinux2014_x86_64.whl.metadata (4.4 kB)\n",
            "Collecting tensorflow-text==2.15\n",
            "  Using cached tensorflow_text-2.15.0-cp311-cp311-manylinux_2_17_x86_64.manylinux2014_x86_64.whl.metadata (1.9 kB)\n",
            "Collecting tf-models-official==2.15\n",
            "  Using cached tf_models_official-2.15.0-py2.py3-none-any.whl.metadata (1.4 kB)\n",
            "Collecting mediapipe-model-maker==0.2.1.4\n",
            "  Using cached mediapipe_model_maker-0.2.1.4-py3-none-any.whl.metadata (1.7 kB)\n",
            "Collecting ml-dtypes==0.2.0\n",
            "  Downloading ml_dtypes-0.2.0-cp311-cp311-manylinux_2_17_x86_64.manylinux2014_x86_64.whl.metadata (20 kB)\n",
            "Requirement already satisfied: absl-py>=1.0.0 in /usr/local/lib/python3.11/dist-packages (from tensorflow==2.15) (1.4.0)\n",
            "Requirement already satisfied: astunparse>=1.6.0 in /usr/local/lib/python3.11/dist-packages (from tensorflow==2.15) (1.6.3)\n",
            "Requirement already satisfied: flatbuffers>=23.5.26 in /usr/local/lib/python3.11/dist-packages (from tensorflow==2.15) (25.2.10)\n",
            "Requirement already satisfied: gast!=0.5.0,!=0.5.1,!=0.5.2,>=0.2.1 in /usr/local/lib/python3.11/dist-packages (from tensorflow==2.15) (0.6.0)\n",
            "Requirement already satisfied: google-pasta>=0.1.1 in /usr/local/lib/python3.11/dist-packages (from tensorflow==2.15) (0.2.0)\n",
            "Requirement already satisfied: h5py>=2.9.0 in /usr/local/lib/python3.11/dist-packages (from tensorflow==2.15) (3.13.0)\n",
            "Requirement already satisfied: libclang>=13.0.0 in /usr/local/lib/python3.11/dist-packages (from tensorflow==2.15) (18.1.1)\n",
            "Requirement already satisfied: numpy<2.0.0,>=1.23.5 in /usr/local/lib/python3.11/dist-packages (from tensorflow==2.15) (1.26.4)\n",
            "Requirement already satisfied: opt-einsum>=2.3.2 in /usr/local/lib/python3.11/dist-packages (from tensorflow==2.15) (3.4.0)\n",
            "Requirement already satisfied: packaging in /usr/local/lib/python3.11/dist-packages (from tensorflow==2.15) (24.2)\n",
            "Requirement already satisfied: protobuf!=4.21.0,!=4.21.1,!=4.21.2,!=4.21.3,!=4.21.4,!=4.21.5,<5.0.0dev,>=3.20.3 in /usr/local/lib/python3.11/dist-packages (from tensorflow==2.15) (4.25.6)\n",
            "Requirement already satisfied: setuptools in /usr/local/lib/python3.11/dist-packages (from tensorflow==2.15) (75.1.0)\n",
            "Requirement already satisfied: six>=1.12.0 in /usr/local/lib/python3.11/dist-packages (from tensorflow==2.15) (1.17.0)\n",
            "Requirement already satisfied: termcolor>=1.1.0 in /usr/local/lib/python3.11/dist-packages (from tensorflow==2.15) (2.5.0)\n",
            "Requirement already satisfied: typing-extensions>=3.6.6 in /usr/local/lib/python3.11/dist-packages (from tensorflow==2.15) (4.12.2)\n",
            "Requirement already satisfied: wrapt<1.15,>=1.11.0 in /usr/local/lib/python3.11/dist-packages (from tensorflow==2.15) (1.14.1)\n",
            "Requirement already satisfied: tensorflow-io-gcs-filesystem>=0.23.1 in /usr/local/lib/python3.11/dist-packages (from tensorflow==2.15) (0.37.1)\n",
            "Requirement already satisfied: grpcio<2.0,>=1.24.3 in /usr/local/lib/python3.11/dist-packages (from tensorflow==2.15) (1.71.0)\n",
            "Collecting tensorboard<2.16,>=2.15 (from tensorflow==2.15)\n",
            "  Using cached tensorboard-2.15.2-py3-none-any.whl.metadata (1.7 kB)\n",
            "Requirement already satisfied: tensorflow-estimator<2.16,>=2.15.0 in /usr/local/lib/python3.11/dist-packages (from tensorflow==2.15) (2.15.0)\n",
            "Collecting keras<2.16,>=2.15.0 (from tensorflow==2.15)\n",
            "  Using cached keras-2.15.0-py3-none-any.whl.metadata (2.4 kB)\n",
            "Requirement already satisfied: tensorflow-hub>=0.13.0 in /usr/local/lib/python3.11/dist-packages (from tensorflow-text==2.15) (0.16.1)\n",
            "Requirement already satisfied: Cython in /usr/local/lib/python3.11/dist-packages (from tf-models-official==2.15) (3.0.12)\n",
            "Requirement already satisfied: Pillow in /usr/local/lib/python3.11/dist-packages (from tf-models-official==2.15) (11.1.0)\n",
            "Requirement already satisfied: gin-config in /usr/local/lib/python3.11/dist-packages (from tf-models-official==2.15) (0.5.0)\n",
            "Requirement already satisfied: google-api-python-client>=1.6.7 in /usr/local/lib/python3.11/dist-packages (from tf-models-official==2.15) (2.164.0)\n",
            "Requirement already satisfied: immutabledict in /usr/local/lib/python3.11/dist-packages (from tf-models-official==2.15) (4.2.1)\n",
            "Requirement already satisfied: kaggle>=1.3.9 in /usr/local/lib/python3.11/dist-packages (from tf-models-official==2.15) (1.7.4.2)\n",
            "Requirement already satisfied: matplotlib in /usr/local/lib/python3.11/dist-packages (from tf-models-official==2.15) (3.10.0)\n",
            "Requirement already satisfied: oauth2client in /usr/local/lib/python3.11/dist-packages (from tf-models-official==2.15) (4.1.3)\n",
            "Requirement already satisfied: opencv-python-headless in /usr/local/lib/python3.11/dist-packages (from tf-models-official==2.15) (4.11.0.86)\n",
            "Requirement already satisfied: pandas>=0.22.0 in /usr/local/lib/python3.11/dist-packages (from tf-models-official==2.15) (2.2.2)\n",
            "Requirement already satisfied: psutil>=5.4.3 in /usr/local/lib/python3.11/dist-packages (from tf-models-official==2.15) (5.9.5)\n",
            "Requirement already satisfied: py-cpuinfo>=3.3.0 in /usr/local/lib/python3.11/dist-packages (from tf-models-official==2.15) (9.0.0)\n",
            "Requirement already satisfied: pycocotools in /usr/local/lib/python3.11/dist-packages (from tf-models-official==2.15) (2.0.8)\n",
            "Requirement already satisfied: pyyaml>=6.0.0 in /usr/local/lib/python3.11/dist-packages (from tf-models-official==2.15) (6.0.2)\n",
            "Requirement already satisfied: sacrebleu in /usr/local/lib/python3.11/dist-packages (from tf-models-official==2.15) (2.5.1)\n",
            "Requirement already satisfied: scipy>=0.19.1 in /usr/local/lib/python3.11/dist-packages (from tf-models-official==2.15) (1.14.1)\n",
            "Requirement already satisfied: sentencepiece in /usr/local/lib/python3.11/dist-packages (from tf-models-official==2.15) (0.2.0)\n",
            "Requirement already satisfied: seqeval in /usr/local/lib/python3.11/dist-packages (from tf-models-official==2.15) (1.2.2)\n",
            "Requirement already satisfied: tensorflow-datasets in /usr/local/lib/python3.11/dist-packages (from tf-models-official==2.15) (4.9.8)\n",
            "Requirement already satisfied: tensorflow-model-optimization>=0.4.1 in /usr/local/lib/python3.11/dist-packages (from tf-models-official==2.15) (0.7.5)\n",
            "Requirement already satisfied: tf-slim>=1.1.0 in /usr/local/lib/python3.11/dist-packages (from tf-models-official==2.15) (1.1.0)\n",
            "Requirement already satisfied: mediapipe>=0.10.0 in /usr/local/lib/python3.11/dist-packages (from mediapipe-model-maker==0.2.1.4) (0.10.21)\n",
            "Requirement already satisfied: opencv-python in /usr/local/lib/python3.11/dist-packages (from mediapipe-model-maker==0.2.1.4) (4.11.0.86)\n",
            "Requirement already satisfied: tensorflow-addons in /usr/local/lib/python3.11/dist-packages (from mediapipe-model-maker==0.2.1.4) (0.23.0)\n",
            "Requirement already satisfied: wheel<1.0,>=0.23.0 in /usr/local/lib/python3.11/dist-packages (from astunparse>=1.6.0->tensorflow==2.15) (0.45.1)\n",
            "Requirement already satisfied: httplib2<1.dev0,>=0.19.0 in /usr/local/lib/python3.11/dist-packages (from google-api-python-client>=1.6.7->tf-models-official==2.15) (0.22.0)\n",
            "Requirement already satisfied: google-auth!=2.24.0,!=2.25.0,<3.0.0.dev0,>=1.32.0 in /usr/local/lib/python3.11/dist-packages (from google-api-python-client>=1.6.7->tf-models-official==2.15) (2.38.0)\n",
            "Requirement already satisfied: google-auth-httplib2<1.0.0,>=0.2.0 in /usr/local/lib/python3.11/dist-packages (from google-api-python-client>=1.6.7->tf-models-official==2.15) (0.2.0)\n",
            "Requirement already satisfied: google-api-core!=2.0.*,!=2.1.*,!=2.2.*,!=2.3.0,<3.0.0.dev0,>=1.31.5 in /usr/local/lib/python3.11/dist-packages (from google-api-python-client>=1.6.7->tf-models-official==2.15) (2.24.2)\n",
            "Requirement already satisfied: uritemplate<5,>=3.0.1 in /usr/local/lib/python3.11/dist-packages (from google-api-python-client>=1.6.7->tf-models-official==2.15) (4.1.1)\n",
            "Requirement already satisfied: bleach in /usr/local/lib/python3.11/dist-packages (from kaggle>=1.3.9->tf-models-official==2.15) (6.2.0)\n",
            "Requirement already satisfied: certifi>=14.05.14 in /usr/local/lib/python3.11/dist-packages (from kaggle>=1.3.9->tf-models-official==2.15) (2025.1.31)\n",
            "Requirement already satisfied: charset-normalizer in /usr/local/lib/python3.11/dist-packages (from kaggle>=1.3.9->tf-models-official==2.15) (3.4.1)\n",
            "Requirement already satisfied: idna in /usr/local/lib/python3.11/dist-packages (from kaggle>=1.3.9->tf-models-official==2.15) (3.10)\n",
            "Requirement already satisfied: python-dateutil>=2.5.3 in /usr/local/lib/python3.11/dist-packages (from kaggle>=1.3.9->tf-models-official==2.15) (2.8.2)\n",
            "Requirement already satisfied: python-slugify in /usr/local/lib/python3.11/dist-packages (from kaggle>=1.3.9->tf-models-official==2.15) (8.0.4)\n",
            "Requirement already satisfied: requests in /usr/local/lib/python3.11/dist-packages (from kaggle>=1.3.9->tf-models-official==2.15) (2.32.3)\n",
            "Requirement already satisfied: text-unidecode in /usr/local/lib/python3.11/dist-packages (from kaggle>=1.3.9->tf-models-official==2.15) (1.3)\n",
            "Requirement already satisfied: tqdm in /usr/local/lib/python3.11/dist-packages (from kaggle>=1.3.9->tf-models-official==2.15) (4.67.1)\n",
            "Requirement already satisfied: urllib3>=1.15.1 in /usr/local/lib/python3.11/dist-packages (from kaggle>=1.3.9->tf-models-official==2.15) (2.3.0)\n",
            "Requirement already satisfied: webencodings in /usr/local/lib/python3.11/dist-packages (from kaggle>=1.3.9->tf-models-official==2.15) (0.5.1)\n",
            "Requirement already satisfied: attrs>=19.1.0 in /usr/local/lib/python3.11/dist-packages (from mediapipe>=0.10.0->mediapipe-model-maker==0.2.1.4) (25.3.0)\n",
            "Collecting jax (from mediapipe>=0.10.0->mediapipe-model-maker==0.2.1.4)\n",
            "  Using cached jax-0.5.3-py3-none-any.whl.metadata (22 kB)\n",
            "Requirement already satisfied: jaxlib in /usr/local/lib/python3.11/dist-packages (from mediapipe>=0.10.0->mediapipe-model-maker==0.2.1.4) (0.4.34)\n",
            "Requirement already satisfied: opencv-contrib-python in /usr/local/lib/python3.11/dist-packages (from mediapipe>=0.10.0->mediapipe-model-maker==0.2.1.4) (4.11.0.86)\n",
            "Requirement already satisfied: sounddevice>=0.4.4 in /usr/local/lib/python3.11/dist-packages (from mediapipe>=0.10.0->mediapipe-model-maker==0.2.1.4) (0.5.1)\n",
            "Requirement already satisfied: pytz>=2020.1 in /usr/local/lib/python3.11/dist-packages (from pandas>=0.22.0->tf-models-official==2.15) (2025.1)\n",
            "Requirement already satisfied: tzdata>=2022.7 in /usr/local/lib/python3.11/dist-packages (from pandas>=0.22.0->tf-models-official==2.15) (2025.1)\n",
            "Requirement already satisfied: google-auth-oauthlib<2,>=0.5 in /usr/local/lib/python3.11/dist-packages (from tensorboard<2.16,>=2.15->tensorflow==2.15) (1.2.1)\n",
            "Requirement already satisfied: markdown>=2.6.8 in /usr/local/lib/python3.11/dist-packages (from tensorboard<2.16,>=2.15->tensorflow==2.15) (3.7)\n",
            "Requirement already satisfied: tensorboard-data-server<0.8.0,>=0.7.0 in /usr/local/lib/python3.11/dist-packages (from tensorboard<2.16,>=2.15->tensorflow==2.15) (0.7.2)\n",
            "Requirement already satisfied: werkzeug>=1.0.1 in /usr/local/lib/python3.11/dist-packages (from tensorboard<2.16,>=2.15->tensorflow==2.15) (3.1.3)\n",
            "Requirement already satisfied: tf-keras>=2.14.1 in /usr/local/lib/python3.11/dist-packages (from tensorflow-hub>=0.13.0->tensorflow-text==2.15) (2.15.1)\n",
            "Requirement already satisfied: dm-tree~=0.1.1 in /usr/local/lib/python3.11/dist-packages (from tensorflow-model-optimization>=0.4.1->tf-models-official==2.15) (0.1.9)\n",
            "Requirement already satisfied: contourpy>=1.0.1 in /usr/local/lib/python3.11/dist-packages (from matplotlib->tf-models-official==2.15) (1.3.1)\n",
            "Requirement already satisfied: cycler>=0.10 in /usr/local/lib/python3.11/dist-packages (from matplotlib->tf-models-official==2.15) (0.12.1)\n",
            "Requirement already satisfied: fonttools>=4.22.0 in /usr/local/lib/python3.11/dist-packages (from matplotlib->tf-models-official==2.15) (4.56.0)\n",
            "Requirement already satisfied: kiwisolver>=1.3.1 in /usr/local/lib/python3.11/dist-packages (from matplotlib->tf-models-official==2.15) (1.4.8)\n",
            "Requirement already satisfied: pyparsing>=2.3.1 in /usr/local/lib/python3.11/dist-packages (from matplotlib->tf-models-official==2.15) (3.2.1)\n",
            "Requirement already satisfied: pyasn1>=0.1.7 in /usr/local/lib/python3.11/dist-packages (from oauth2client->tf-models-official==2.15) (0.6.1)\n",
            "Requirement already satisfied: pyasn1-modules>=0.0.5 in /usr/local/lib/python3.11/dist-packages (from oauth2client->tf-models-official==2.15) (0.4.1)\n",
            "Requirement already satisfied: rsa>=3.1.4 in /usr/local/lib/python3.11/dist-packages (from oauth2client->tf-models-official==2.15) (4.9)\n",
            "Requirement already satisfied: portalocker in /usr/local/lib/python3.11/dist-packages (from sacrebleu->tf-models-official==2.15) (3.1.1)\n",
            "Requirement already satisfied: regex in /usr/local/lib/python3.11/dist-packages (from sacrebleu->tf-models-official==2.15) (2024.11.6)\n",
            "Requirement already satisfied: tabulate>=0.8.9 in /usr/local/lib/python3.11/dist-packages (from sacrebleu->tf-models-official==2.15) (0.9.0)\n",
            "Requirement already satisfied: colorama in /usr/local/lib/python3.11/dist-packages (from sacrebleu->tf-models-official==2.15) (0.4.6)\n",
            "Requirement already satisfied: lxml in /usr/local/lib/python3.11/dist-packages (from sacrebleu->tf-models-official==2.15) (5.3.1)\n",
            "Requirement already satisfied: scikit-learn>=0.21.3 in /usr/local/lib/python3.11/dist-packages (from seqeval->tf-models-official==2.15) (1.6.1)\n",
            "Requirement already satisfied: typeguard<3.0.0,>=2.7 in /usr/local/lib/python3.11/dist-packages (from tensorflow-addons->mediapipe-model-maker==0.2.1.4) (2.13.3)\n",
            "Requirement already satisfied: array_record>=0.5.0 in /usr/local/lib/python3.11/dist-packages (from tensorflow-datasets->tf-models-official==2.15) (0.7.1)\n",
            "Requirement already satisfied: etils>=1.9.1 in /usr/local/lib/python3.11/dist-packages (from etils[edc,enp,epath,epy,etree]>=1.9.1; python_version >= \"3.11\"->tensorflow-datasets->tf-models-official==2.15) (1.12.2)\n",
            "Requirement already satisfied: promise in /usr/local/lib/python3.11/dist-packages (from tensorflow-datasets->tf-models-official==2.15) (2.3)\n",
            "Requirement already satisfied: pyarrow in /usr/local/lib/python3.11/dist-packages (from tensorflow-datasets->tf-models-official==2.15) (18.1.0)\n",
            "Requirement already satisfied: simple_parsing in /usr/local/lib/python3.11/dist-packages (from tensorflow-datasets->tf-models-official==2.15) (0.1.7)\n",
            "Requirement already satisfied: tensorflow-metadata in /usr/local/lib/python3.11/dist-packages (from tensorflow-datasets->tf-models-official==2.15) (1.16.1)\n",
            "Requirement already satisfied: toml in /usr/local/lib/python3.11/dist-packages (from tensorflow-datasets->tf-models-official==2.15) (0.10.2)\n",
            "Requirement already satisfied: einops in /usr/local/lib/python3.11/dist-packages (from etils[edc,enp,epath,epy,etree]>=1.9.1; python_version >= \"3.11\"->tensorflow-datasets->tf-models-official==2.15) (0.8.1)\n",
            "Requirement already satisfied: fsspec in /usr/local/lib/python3.11/dist-packages (from etils[edc,enp,epath,epy,etree]>=1.9.1; python_version >= \"3.11\"->tensorflow-datasets->tf-models-official==2.15) (2025.3.0)\n",
            "Requirement already satisfied: importlib_resources in /usr/local/lib/python3.11/dist-packages (from etils[edc,enp,epath,epy,etree]>=1.9.1; python_version >= \"3.11\"->tensorflow-datasets->tf-models-official==2.15) (6.5.2)\n",
            "Requirement already satisfied: zipp in /usr/local/lib/python3.11/dist-packages (from etils[edc,enp,epath,epy,etree]>=1.9.1; python_version >= \"3.11\"->tensorflow-datasets->tf-models-official==2.15) (3.21.0)\n",
            "Requirement already satisfied: googleapis-common-protos<2.0.0,>=1.56.2 in /usr/local/lib/python3.11/dist-packages (from google-api-core!=2.0.*,!=2.1.*,!=2.2.*,!=2.3.0,<3.0.0.dev0,>=1.31.5->google-api-python-client>=1.6.7->tf-models-official==2.15) (1.69.2)\n",
            "Requirement already satisfied: proto-plus<2.0.0,>=1.22.3 in /usr/local/lib/python3.11/dist-packages (from google-api-core!=2.0.*,!=2.1.*,!=2.2.*,!=2.3.0,<3.0.0.dev0,>=1.31.5->google-api-python-client>=1.6.7->tf-models-official==2.15) (1.26.1)\n",
            "Requirement already satisfied: cachetools<6.0,>=2.0.0 in /usr/local/lib/python3.11/dist-packages (from google-auth!=2.24.0,!=2.25.0,<3.0.0.dev0,>=1.32.0->google-api-python-client>=1.6.7->tf-models-official==2.15) (5.5.2)\n",
            "Requirement already satisfied: requests-oauthlib>=0.7.0 in /usr/local/lib/python3.11/dist-packages (from google-auth-oauthlib<2,>=0.5->tensorboard<2.16,>=2.15->tensorflow==2.15) (2.0.0)\n",
            "Requirement already satisfied: joblib>=1.2.0 in /usr/local/lib/python3.11/dist-packages (from scikit-learn>=0.21.3->seqeval->tf-models-official==2.15) (1.4.2)\n",
            "Requirement already satisfied: threadpoolctl>=3.1.0 in /usr/local/lib/python3.11/dist-packages (from scikit-learn>=0.21.3->seqeval->tf-models-official==2.15) (3.6.0)\n",
            "Requirement already satisfied: CFFI>=1.0 in /usr/local/lib/python3.11/dist-packages (from sounddevice>=0.4.4->mediapipe>=0.10.0->mediapipe-model-maker==0.2.1.4) (1.17.1)\n",
            "Requirement already satisfied: MarkupSafe>=2.1.1 in /usr/local/lib/python3.11/dist-packages (from werkzeug>=1.0.1->tensorboard<2.16,>=2.15->tensorflow==2.15) (3.0.2)\n",
            "Collecting jaxlib (from mediapipe>=0.10.0->mediapipe-model-maker==0.2.1.4)\n",
            "  Using cached jaxlib-0.5.3-cp311-cp311-manylinux2014_x86_64.whl.metadata (1.2 kB)\n",
            "INFO: pip is looking at multiple versions of jax to determine which version is compatible with other requirements. This could take a while.\n",
            "Collecting jax (from mediapipe>=0.10.0->mediapipe-model-maker==0.2.1.4)\n",
            "  Downloading jax-0.5.2-py3-none-any.whl.metadata (22 kB)\n",
            "Collecting jaxlib (from mediapipe>=0.10.0->mediapipe-model-maker==0.2.1.4)\n",
            "  Downloading jaxlib-0.5.1-cp311-cp311-manylinux2014_x86_64.whl.metadata (978 bytes)\n",
            "Collecting jax (from mediapipe>=0.10.0->mediapipe-model-maker==0.2.1.4)\n",
            "  Using cached jax-0.5.1-py3-none-any.whl.metadata (22 kB)\n",
            "  Using cached jax-0.5.0-py3-none-any.whl.metadata (22 kB)\n",
            "Collecting jaxlib (from mediapipe>=0.10.0->mediapipe-model-maker==0.2.1.4)\n",
            "  Using cached jaxlib-0.5.0-cp311-cp311-manylinux2014_x86_64.whl.metadata (978 bytes)\n",
            "Collecting jax (from mediapipe>=0.10.0->mediapipe-model-maker==0.2.1.4)\n",
            "  Using cached jax-0.4.38-py3-none-any.whl.metadata (22 kB)\n",
            "Collecting jaxlib (from mediapipe>=0.10.0->mediapipe-model-maker==0.2.1.4)\n",
            "  Using cached jaxlib-0.4.38-cp311-cp311-manylinux2014_x86_64.whl.metadata (1.0 kB)\n",
            "Collecting jax (from mediapipe>=0.10.0->mediapipe-model-maker==0.2.1.4)\n",
            "  Using cached jax-0.4.37-py3-none-any.whl.metadata (22 kB)\n",
            "Collecting jaxlib (from mediapipe>=0.10.0->mediapipe-model-maker==0.2.1.4)\n",
            "  Using cached jaxlib-0.4.36-cp311-cp311-manylinux2014_x86_64.whl.metadata (1.0 kB)\n",
            "Collecting jax (from mediapipe>=0.10.0->mediapipe-model-maker==0.2.1.4)\n",
            "  Using cached jax-0.4.36-py3-none-any.whl.metadata (22 kB)\n",
            "  Using cached jax-0.4.35-py3-none-any.whl.metadata (22 kB)\n",
            "INFO: pip is still looking at multiple versions of jax to determine which version is compatible with other requirements. This could take a while.\n",
            "  Using cached jax-0.4.34-py3-none-any.whl.metadata (22 kB)\n",
            "Requirement already satisfied: docstring-parser<1.0,>=0.15 in /usr/local/lib/python3.11/dist-packages (from simple_parsing->tensorflow-datasets->tf-models-official==2.15) (0.16)\n",
            "Requirement already satisfied: pycparser in /usr/local/lib/python3.11/dist-packages (from CFFI>=1.0->sounddevice>=0.4.4->mediapipe>=0.10.0->mediapipe-model-maker==0.2.1.4) (2.22)\n",
            "Requirement already satisfied: oauthlib>=3.0.0 in /usr/local/lib/python3.11/dist-packages (from requests-oauthlib>=0.7.0->google-auth-oauthlib<2,>=0.5->tensorboard<2.16,>=2.15->tensorflow==2.15) (3.2.2)\n",
            "Downloading tensorflow-2.15.0-cp311-cp311-manylinux_2_17_x86_64.manylinux2014_x86_64.whl (475.3 MB)\n",
            "\u001b[2K   \u001b[90m━━━━━━━━━━━━━━━━━━━━━━━━━━━━━━━━━━━━━━━━\u001b[0m \u001b[32m475.3/475.3 MB\u001b[0m \u001b[31m41.8 MB/s\u001b[0m eta \u001b[36m0:00:00\u001b[0m\n",
            "\u001b[?25hUsing cached tensorflow_text-2.15.0-cp311-cp311-manylinux_2_17_x86_64.manylinux2014_x86_64.whl (5.2 MB)\n",
            "Using cached tf_models_official-2.15.0-py2.py3-none-any.whl (2.7 MB)\n",
            "Using cached mediapipe_model_maker-0.2.1.4-py3-none-any.whl (133 kB)\n",
            "Downloading ml_dtypes-0.2.0-cp311-cp311-manylinux_2_17_x86_64.manylinux2014_x86_64.whl (1.0 MB)\n",
            "\u001b[2K   \u001b[90m━━━━━━━━━━━━━━━━━━━━━━━━━━━━━━━━━━━━━━━━\u001b[0m \u001b[32m1.0/1.0 MB\u001b[0m \u001b[31m35.2 MB/s\u001b[0m eta \u001b[36m0:00:00\u001b[0m\n",
            "\u001b[?25hUsing cached keras-2.15.0-py3-none-any.whl (1.7 MB)\n",
            "Using cached tensorboard-2.15.2-py3-none-any.whl (5.5 MB)\n",
            "Using cached jax-0.4.34-py3-none-any.whl (2.1 MB)\n",
            "Installing collected packages: ml-dtypes, keras, jax, tensorboard, tensorflow, tensorflow-text, tf-models-official, mediapipe-model-maker\n",
            "\u001b[31mERROR: pip's dependency resolver does not currently take into account all the packages that are installed. This behaviour is the source of the following dependency conflicts.\n",
            "tensorstore 0.1.72 requires ml_dtypes>=0.3.1, but you have ml-dtypes 0.2.0 which is incompatible.\n",
            "dopamine-rl 4.1.2 requires tf-keras>=2.18.0, but you have tf-keras 2.15.1 which is incompatible.\n",
            "orbax-checkpoint 0.11.9 requires jax>=0.5.0, but you have jax 0.4.34 which is incompatible.\u001b[0m\u001b[31m\n",
            "\u001b[0mSuccessfully installed jax-0.4.34 keras-2.15.0 mediapipe-model-maker-0.2.1.4 ml-dtypes-0.2.0 tensorboard-2.15.2 tensorflow-2.15.0 tensorflow-text-2.15.0 tf-models-official-2.15.0\n",
            "Requirement already satisfied: jax==0.4.34 in /usr/local/lib/python3.11/dist-packages (0.4.34)\n",
            "Requirement already satisfied: jaxlib<=0.4.34,>=0.4.34 in /usr/local/lib/python3.11/dist-packages (from jax==0.4.34) (0.4.34)\n",
            "Requirement already satisfied: ml-dtypes>=0.2.0 in /usr/local/lib/python3.11/dist-packages (from jax==0.4.34) (0.2.0)\n",
            "Requirement already satisfied: numpy>=1.24 in /usr/local/lib/python3.11/dist-packages (from jax==0.4.34) (1.26.4)\n",
            "Requirement already satisfied: opt-einsum in /usr/local/lib/python3.11/dist-packages (from jax==0.4.34) (3.4.0)\n",
            "Requirement already satisfied: scipy>=1.10 in /usr/local/lib/python3.11/dist-packages (from jax==0.4.34) (1.14.1)\n"
          ]
        }
      ]
    },
    {
      "cell_type": "code",
      "source": [
        "import os\n",
        "os._exit(00)  # Restart kernel\n"
      ],
      "metadata": {
        "id": "mgk-BKoIjUd1"
      },
      "execution_count": null,
      "outputs": []
    },
    {
      "cell_type": "code",
      "source": [
        "import os\n",
        "import pathlib\n",
        "import numpy as np\n",
        "import tensorflow as tf\n",
        "import matplotlib.pyplot as plt\n",
        "import seaborn as sns\n",
        "import pandas as pd\n",
        "import sklearn\n",
        "import cv2\n",
        "import mediapipe as mp\n",
        "from mediapipe_model_maker.python.vision import gesture_recognizer\n",
        "from mediapipe.tasks.python.vision.gesture_recognizer import GestureRecognizer\n",
        "from mediapipe.framework.formats import landmark_pb2\n"
      ],
      "metadata": {
        "id": "4ngwxmXFMtw_",
        "colab": {
          "base_uri": "https://localhost:8080/"
        },
        "outputId": "bbc85337-9322-4706-f0fc-b759edacce2d"
      },
      "execution_count": 3,
      "outputs": [
        {
          "output_type": "stream",
          "name": "stderr",
          "text": [
            "/usr/local/lib/python3.11/dist-packages/tensorflow_addons/utils/tfa_eol_msg.py:23: UserWarning: \n",
            "\n",
            "TensorFlow Addons (TFA) has ended development and introduction of new features.\n",
            "TFA has entered a minimal maintenance and release mode until a planned end of life in May 2024.\n",
            "Please modify downstream libraries to take dependencies from other repositories in our TensorFlow community (e.g. Keras, Keras-CV, and Keras-NLP). \n",
            "\n",
            "For more information see: https://github.com/tensorflow/addons/issues/2807 \n",
            "\n",
            "  warnings.warn(\n"
          ]
        }
      ]
    },
    {
      "cell_type": "code",
      "source": [
        "from google.colab import drive\n",
        "drive.mount('/content/drive')"
      ],
      "metadata": {
        "id": "TbTfCL_rOLXC",
        "colab": {
          "base_uri": "https://localhost:8080/"
        },
        "outputId": "78bdb248-85d5-49f9-edd9-6ebc82ecfc33"
      },
      "execution_count": 4,
      "outputs": [
        {
          "output_type": "stream",
          "name": "stdout",
          "text": [
            "Mounted at /content/drive\n"
          ]
        }
      ]
    },
    {
      "cell_type": "code",
      "source": [
        "dataset_root = pathlib.Path(\"/content/drive/MyDrive/Sibi\")"
      ],
      "metadata": {
        "id": "2UNyB0qcOT_t"
      },
      "execution_count": 5,
      "outputs": []
    },
    {
      "cell_type": "code",
      "source": [
        "import utils"
      ],
      "metadata": {
        "id": "MJ8GP_mKOhuz"
      },
      "execution_count": 6,
      "outputs": []
    },
    {
      "cell_type": "code",
      "source": [
        "# Menampilkan label dari dataset\n",
        "labels = [p.name for p in dataset_root.iterdir() if p.is_dir()]\n",
        "print(f\"Classes: {labels}\")\n",
        "\n",
        "# Mendapatkan daftar file gambar\n",
        "train_files = utils.find_images(dataset_root)\n",
        "print(f\"Number of training images: {len(train_files)}\")\n"
      ],
      "metadata": {
        "id": "lQmAxyg3O1R_",
        "colab": {
          "base_uri": "https://localhost:8080/"
        },
        "outputId": "00c5407d-8ad0-4e2d-a61a-f143b4bd80cc"
      },
      "execution_count": 7,
      "outputs": [
        {
          "output_type": "stream",
          "name": "stdout",
          "text": [
            "Classes: ['A', 'B', 'C', 'D', 'E', 'F', 'G', 'H', 'I', 'K', 'L', 'M', 'N', 'O', 'P', 'Q', 'R', 'S', 'T', 'U', 'V', 'W', 'X', 'Y', 'none']\n",
            "Number of training images: 6981\n"
          ]
        }
      ]
    },
    {
      "cell_type": "code",
      "source": [
        "def check_and_convert_images(dataset_path):\n",
        "    for root, dirs, files in os.walk(dataset_path):\n",
        "        for file in files:\n",
        "            if file.lower().endswith(('.png', '.jpg', '.jpeg')):\n",
        "                img_path = os.path.join(root, file)\n",
        "                img = cv2.imread(img_path)\n",
        "                if img is not None:\n",
        "                    # Konversi ke RGB\n",
        "                    img = cv2.cvtColor(img, cv2.COLOR_BGR2RGB)\n",
        "                    # Resize gambar ke ukuran yang diinginkan\n",
        "                    img = cv2.resize(img, (192, 192))\n",
        "                    # Simpan kembali\n",
        "                    cv2.imwrite(img_path, cv2.cvtColor(img, cv2.COLOR_RGB2BGR))\n",
        "\n",
        "# Jalankan fungsi konversi\n",
        "check_and_convert_images(dataset_root)"
      ],
      "metadata": {
        "id": "nLu6nN_RytJg"
      },
      "execution_count": 8,
      "outputs": []
    },
    {
      "cell_type": "code",
      "source": [
        "import os\n",
        "import cv2\n",
        "\n",
        "def check_and_convert_images(dataset_path):\n",
        "    for root, dirs, files in os.walk(dataset_path):\n",
        "        for file in files:\n",
        "            if file.lower().endswith(('.png', '.jpg', '.jpeg')):\n",
        "                img_path = os.path.join(root, file)\n",
        "\n",
        "                # Membaca gambar\n",
        "                img = cv2.imread(img_path)\n",
        "\n",
        "                if img is not None:\n",
        "                    # Cek jumlah channel gambar\n",
        "                    if len(img.shape) == 2:  # Jika gambar grayscale (1 channel)\n",
        "                        print(f\"Gambar grayscale terdeteksi: {img_path}\")\n",
        "                        # Konversi gambar grayscale menjadi RGB\n",
        "                        img = cv2.cvtColor(img, cv2.COLOR_GRAY2RGB)\n",
        "                    elif img.shape[2] == 3:  # Jika gambar berwarna (3 channel)\n",
        "                        # Konversi dari BGR ke RGB\n",
        "                        img = cv2.cvtColor(img, cv2.COLOR_BGR2RGB)\n",
        "\n",
        "                    # Resize gambar ke ukuran yang diinginkan\n",
        "                    img = cv2.resize(img, (192, 192))\n",
        "\n",
        "                    # Simpan kembali gambar dengan format BGR\n",
        "                    cv2.imwrite(img_path, cv2.cvtColor(img, cv2.COLOR_RGB2BGR))\n",
        "\n",
        "# Jalankan fungsi konversi\n",
        "dataset_root = \"/content/drive/MyDrive/Sibi\"\n",
        "check_and_convert_images(dataset_root)\n"
      ],
      "metadata": {
        "id": "y6fKVO6hqh9K"
      },
      "execution_count": null,
      "outputs": []
    },
    {
      "cell_type": "code",
      "source": [
        "def verify_dataset_structure(dataset_path):\n",
        "    # Pastikan folder dataset ada\n",
        "    if not os.path.exists(dataset_path):\n",
        "        raise ValueError(f\"Dataset path {dataset_path} tidak ditemukan\")\n",
        "\n",
        "    # Variabel untuk menghitung total gambar\n",
        "    total_images = 0\n",
        "\n",
        "    # Hitung jumlah gambar per kelas\n",
        "    for class_name in os.listdir(dataset_path):\n",
        "        class_path = os.path.join(dataset_path, class_name)\n",
        "        if os.path.isdir(class_path):\n",
        "            n_images = len([f for f in os.listdir(class_path) if f.lower().endswith(('.png', '.jpg', '.jpeg'))])\n",
        "            print(f\"Kelas {class_name}: {n_images} gambar\")\n",
        "            # Tambahkan jumlah gambar ke total\n",
        "            total_images += n_images\n",
        "\n",
        "    # Tampilkan total keseluruhan gambar\n",
        "    print(f\"\\nTotal keseluruhan gambar: {total_images} gambar\")\n",
        "\n",
        "# Menjalankan fungsi untuk memeriksa dataset\n",
        "verify_dataset_structure(dataset_root)\n"
      ],
      "metadata": {
        "id": "p5riBeKUt29u",
        "colab": {
          "base_uri": "https://localhost:8080/"
        },
        "outputId": "f80e2bf5-2afb-49d4-c995-c8aa8c808d5f"
      },
      "execution_count": 9,
      "outputs": [
        {
          "output_type": "stream",
          "name": "stdout",
          "text": [
            "Kelas A: 342 gambar\n",
            "Kelas B: 317 gambar\n",
            "Kelas C: 240 gambar\n",
            "Kelas D: 239 gambar\n",
            "Kelas E: 320 gambar\n",
            "Kelas F: 330 gambar\n",
            "Kelas G: 313 gambar\n",
            "Kelas H: 311 gambar\n",
            "Kelas I: 318 gambar\n",
            "Kelas K: 304 gambar\n",
            "Kelas L: 288 gambar\n",
            "Kelas M: 299 gambar\n",
            "Kelas N: 296 gambar\n",
            "Kelas O: 261 gambar\n",
            "Kelas P: 226 gambar\n",
            "Kelas Q: 185 gambar\n",
            "Kelas R: 301 gambar\n",
            "Kelas S: 298 gambar\n",
            "Kelas T: 283 gambar\n",
            "Kelas U: 275 gambar\n",
            "Kelas V: 301 gambar\n",
            "Kelas W: 294 gambar\n",
            "Kelas X: 338 gambar\n",
            "Kelas Y: 302 gambar\n",
            "Kelas none: 0 gambar\n",
            "\n",
            "Total keseluruhan gambar: 6981 gambar\n"
          ]
        }
      ]
    },
    {
      "cell_type": "code",
      "source": [
        "import pathlib\n",
        "import shutil\n",
        "import numpy as np\n",
        "import os\n",
        "\n",
        "def split_dataset(input_root, output_root, splits=\"80:20\", seed=None):\n",
        "    if seed is not None:\n",
        "        np.random.seed(seed)\n",
        "\n",
        "    input_root = pathlib.Path(input_root)\n",
        "    output_root = pathlib.Path(output_root)\n",
        "\n",
        "    # Membagi persentase menjadi angka\n",
        "    split_percentages = [int(s) for s in splits.split(':')]\n",
        "\n",
        "    # Memastikan persentase berjumlah 100\n",
        "    assert sum(split_percentages) == 100, \"Total persentase harus 100\"\n",
        "\n",
        "    for labelpath in input_root.iterdir():\n",
        "        if not labelpath.is_dir():\n",
        "            continue\n",
        "\n",
        "        files = sorted(labelpath.iterdir())\n",
        "        np.random.shuffle(files)\n",
        "\n",
        "        # Hitung jumlah gambar untuk setiap split\n",
        "        total_files = len(files)\n",
        "        train_size = int(total_files * (split_percentages[0] / 100))\n",
        "        test_size = total_files - train_size\n",
        "\n",
        "        # Membagi dataset\n",
        "        subsets = {\n",
        "            'train': files[:train_size],\n",
        "            'test': files[train_size:]\n",
        "        }\n",
        "\n",
        "        # Menyimpan dataset ke folder output\n",
        "        for split_name, subset_files in subsets.items():\n",
        "            subset_root = output_root / split_name / labelpath.name\n",
        "            subset_root.mkdir(parents=True, exist_ok=True)\n",
        "            for file in subset_files:\n",
        "                shutil.copy(file, subset_root)\n",
        "\n",
        "        print(f\"Kelas {labelpath.name} - Train: {train_size}, Test: {test_size}\")\n",
        "\n",
        "# Menjalankan fungsi split dengan 80% untuk training dan 20% untuk testing\n",
        "output_root = \"/content/processed_data\"\n",
        "split_dataset(dataset_root, output_root, splits=\"80:20\", seed=42)\n"
      ],
      "metadata": {
        "id": "KLLqsG2XO6AY",
        "colab": {
          "base_uri": "https://localhost:8080/"
        },
        "outputId": "bbe5efb6-7ff1-44f7-bef9-2d47f153baf0"
      },
      "execution_count": 10,
      "outputs": [
        {
          "output_type": "stream",
          "name": "stdout",
          "text": [
            "Kelas A - Train: 273, Test: 69\n",
            "Kelas B - Train: 253, Test: 64\n",
            "Kelas C - Train: 192, Test: 48\n",
            "Kelas D - Train: 191, Test: 48\n",
            "Kelas E - Train: 256, Test: 64\n",
            "Kelas F - Train: 264, Test: 66\n",
            "Kelas G - Train: 250, Test: 63\n",
            "Kelas H - Train: 248, Test: 63\n",
            "Kelas I - Train: 254, Test: 64\n",
            "Kelas K - Train: 243, Test: 61\n",
            "Kelas L - Train: 230, Test: 58\n",
            "Kelas M - Train: 239, Test: 60\n",
            "Kelas N - Train: 236, Test: 60\n",
            "Kelas O - Train: 208, Test: 53\n",
            "Kelas P - Train: 180, Test: 46\n",
            "Kelas Q - Train: 148, Test: 37\n",
            "Kelas R - Train: 240, Test: 61\n",
            "Kelas S - Train: 238, Test: 60\n",
            "Kelas T - Train: 226, Test: 57\n",
            "Kelas U - Train: 220, Test: 55\n",
            "Kelas V - Train: 240, Test: 61\n",
            "Kelas W - Train: 235, Test: 59\n",
            "Kelas X - Train: 270, Test: 68\n",
            "Kelas Y - Train: 241, Test: 61\n",
            "Kelas none - Train: 0, Test: 0\n"
          ]
        }
      ]
    },
    {
      "cell_type": "code",
      "source": [
        "train_data = gesture_recognizer.Dataset.from_folder(str(dataset_root))\n",
        "train_data.gen_tf_dataset().unbatch().save(\"/content/train_data\")"
      ],
      "metadata": {
        "id": "pxMsTp7-RecP",
        "colab": {
          "base_uri": "https://localhost:8080/"
        },
        "outputId": "c6460043-44fa-4e75-e600-f3714357ce7c"
      },
      "execution_count": 11,
      "outputs": [
        {
          "output_type": "stream",
          "name": "stdout",
          "text": [
            "Downloading https://storage.googleapis.com/mediapipe-assets/palm_detection_full.tflite to /tmp/model_maker/gesture_recognizer/palm_detection_full.tflite\n",
            "Downloading https://storage.googleapis.com/mediapipe-assets/hand_landmark_full.tflite to /tmp/model_maker/gesture_recognizer/hand_landmark_full.tflite\n",
            "Downloading https://storage.googleapis.com/mediapipe-assets/gesture_embedder.tar.gz to /tmp/model_maker/gesture_recognizer/gesture_embedder\n"
          ]
        }
      ]
    },
    {
      "cell_type": "code",
      "source": [
        "data_root = pathlib.Path(\"/content/processed_data\")"
      ],
      "metadata": {
        "id": "DJQ5WNiCZO7l"
      },
      "execution_count": 12,
      "outputs": []
    },
    {
      "cell_type": "code",
      "source": [
        "import pathlib\n",
        "import numpy as np\n",
        "\n",
        "import utils\n",
        "\n",
        "data_root = pathlib.Path(\"./processed_data\")\n",
        "dataset_train = data_root / \"train\"\n",
        "trainfiles = utils.find_images(dataset_train)\n",
        "\n",
        "sample_files = np.random.choice(np.asarray(trainfiles), 10)\n",
        "fig, axarr = utils.plot_image_files(sample_files, ncols=5)\n",
        "fig.savefig(\"example-output.jpg\", dpi=150, bbox_inches=\"tight\")"
      ],
      "metadata": {
        "id": "aDwaujag63qo"
      },
      "execution_count": 13,
      "outputs": []
    },
    {
      "cell_type": "markdown",
      "source": [],
      "metadata": {
        "id": "VFHzSQFh62tj"
      }
    },
    {
      "cell_type": "code",
      "source": [
        "from mediapipe_model_maker.python.vision import gesture_recognizer\n",
        "\n",
        "handparams = gesture_recognizer.HandDataPreprocessingParams(\n",
        "    min_detection_confidence=0.5\n",
        ")\n",
        "\n",
        "dataset_train = data_root / \"train\"\n",
        "data = gesture_recognizer.Dataset.from_folder(str(dataset_train), handparams)\n",
        "train_data, validation_data = data.split(0.8)\n",
        "\n",
        "dataset_test = data_root / \"test\"\n",
        "test_data = gesture_recognizer.Dataset.from_folder(\n",
        "    str(dataset_test), handparams\n",
        ")\n"
      ],
      "metadata": {
        "id": "XeTn3-RoUo_Q",
        "colab": {
          "base_uri": "https://localhost:8080/"
        },
        "outputId": "dc737f68-1b46-44ef-c7ee-7408bb661820"
      },
      "execution_count": 14,
      "outputs": [
        {
          "output_type": "stream",
          "name": "stdout",
          "text": [
            "Using existing files at /tmp/model_maker/gesture_recognizer/palm_detection_full.tflite\n",
            "Using existing files at /tmp/model_maker/gesture_recognizer/hand_landmark_full.tflite\n",
            "Using existing files at /tmp/model_maker/gesture_recognizer/gesture_embedder\n",
            "Using existing files at /tmp/model_maker/gesture_recognizer/palm_detection_full.tflite\n",
            "Using existing files at /tmp/model_maker/gesture_recognizer/hand_landmark_full.tflite\n",
            "Using existing files at /tmp/model_maker/gesture_recognizer/gesture_embedder\n"
          ]
        }
      ]
    },
    {
      "cell_type": "code",
      "source": [
        "trainfiles = utils.find_images(dataset_train)\n",
        "\n",
        "sample_files = np.random.choice(np.asarray(trainfiles), 10)\n",
        "fig, axarr = utils.plot_image_files(sample_files, ncols=5)\n",
        "fig.savefig(\"outputdataset.jpg\", dpi=150, bbox_inches=\"tight\")"
      ],
      "metadata": {
        "id": "qTqpjm80WrNo"
      },
      "execution_count": 15,
      "outputs": []
    },
    {
      "cell_type": "code",
      "source": [
        "hparams = gesture_recognizer.HParams(\n",
        "    export_dir=\"exported_model\",\n",
        "    batch_size=32,\n",
        "    epochs=100,\n",
        "    shuffle=True,\n",
        "    learning_rate=0.001,\n",
        "    lr_decay=0.95,\n",
        ")\n",
        "moptions = gesture_recognizer.ModelOptions(dropout_rate=0.05)\n",
        "options = gesture_recognizer.GestureRecognizerOptions(\n",
        "    hparams=hparams, model_options=moptions\n",
        ")\n",
        "\n",
        "model = gesture_recognizer.GestureRecognizer.create(\n",
        "    train_data=train_data, validation_data=validation_data, options=options\n",
        ")\n"
      ],
      "metadata": {
        "id": "2bS8AvXcWdMb",
        "colab": {
          "base_uri": "https://localhost:8080/"
        },
        "outputId": "25e9e05c-55aa-4baa-8a9c-6ccdc41d6bea"
      },
      "execution_count": 16,
      "outputs": [
        {
          "output_type": "stream",
          "name": "stdout",
          "text": [
            "Model: \"model\"\n",
            "_________________________________________________________________\n",
            " Layer (type)                Output Shape              Param #   \n",
            "=================================================================\n",
            " hand_embedding (InputLayer  [(None, 128)]             0         \n",
            " )                                                               \n",
            "                                                                 \n",
            " batch_normalization (Batch  (None, 128)               512       \n",
            " Normalization)                                                  \n",
            "                                                                 \n",
            " re_lu (ReLU)                (None, 128)               0         \n",
            "                                                                 \n",
            " dropout (Dropout)           (None, 128)               0         \n",
            "                                                                 \n",
            " custom_gesture_recognizer_  (None, 25)                3225      \n",
            " out (Dense)                                                     \n",
            "                                                                 \n",
            "=================================================================\n",
            "Total params: 3737 (14.60 KB)\n",
            "Trainable params: 3481 (13.60 KB)\n",
            "Non-trainable params: 256 (1.00 KB)\n",
            "_________________________________________________________________\n",
            "None\n",
            "Epoch 1/100\n",
            "124/124 [==============================] - 6s 39ms/step - loss: 1.6832 - categorical_accuracy: 0.4844 - val_loss: 0.7474 - val_categorical_accuracy: 0.7202 - lr: 0.0010\n",
            "Epoch 2/100\n",
            "124/124 [==============================] - 8s 61ms/step - loss: 0.5286 - categorical_accuracy: 0.7981 - val_loss: 0.4190 - val_categorical_accuracy: 0.8395 - lr: 9.5000e-04\n",
            "Epoch 3/100\n",
            "124/124 [==============================] - 5s 36ms/step - loss: 0.3434 - categorical_accuracy: 0.8518 - val_loss: 0.3499 - val_categorical_accuracy: 0.8576 - lr: 9.0250e-04\n",
            "Epoch 4/100\n",
            "124/124 [==============================] - 7s 53ms/step - loss: 0.2925 - categorical_accuracy: 0.8632 - val_loss: 0.3187 - val_categorical_accuracy: 0.8616 - lr: 8.5737e-04\n",
            "Epoch 5/100\n",
            "124/124 [==============================] - 5s 35ms/step - loss: 0.2602 - categorical_accuracy: 0.8798 - val_loss: 0.2994 - val_categorical_accuracy: 0.8756 - lr: 8.1451e-04\n",
            "Epoch 6/100\n",
            "124/124 [==============================] - 7s 53ms/step - loss: 0.2397 - categorical_accuracy: 0.8818 - val_loss: 0.2861 - val_categorical_accuracy: 0.8766 - lr: 7.7378e-04\n",
            "Epoch 7/100\n",
            "124/124 [==============================] - 5s 37ms/step - loss: 0.2340 - categorical_accuracy: 0.8894 - val_loss: 0.2752 - val_categorical_accuracy: 0.8857 - lr: 7.3509e-04\n",
            "Epoch 8/100\n",
            "124/124 [==============================] - 8s 61ms/step - loss: 0.2214 - categorical_accuracy: 0.8926 - val_loss: 0.2702 - val_categorical_accuracy: 0.8867 - lr: 6.9834e-04\n",
            "Epoch 9/100\n",
            "124/124 [==============================] - 5s 35ms/step - loss: 0.2141 - categorical_accuracy: 0.8919 - val_loss: 0.2627 - val_categorical_accuracy: 0.8917 - lr: 6.6342e-04\n",
            "Epoch 10/100\n",
            "124/124 [==============================] - 5s 36ms/step - loss: 0.2074 - categorical_accuracy: 0.9027 - val_loss: 0.2574 - val_categorical_accuracy: 0.8897 - lr: 6.3025e-04\n",
            "Epoch 11/100\n",
            "124/124 [==============================] - 6s 49ms/step - loss: 0.2050 - categorical_accuracy: 0.8989 - val_loss: 0.2553 - val_categorical_accuracy: 0.8917 - lr: 5.9874e-04\n",
            "Epoch 12/100\n",
            "124/124 [==============================] - 5s 36ms/step - loss: 0.1999 - categorical_accuracy: 0.8984 - val_loss: 0.2506 - val_categorical_accuracy: 0.8927 - lr: 5.6880e-04\n",
            "Epoch 13/100\n",
            "124/124 [==============================] - 6s 51ms/step - loss: 0.1953 - categorical_accuracy: 0.9017 - val_loss: 0.2474 - val_categorical_accuracy: 0.8927 - lr: 5.4036e-04\n",
            "Epoch 14/100\n",
            "124/124 [==============================] - 5s 38ms/step - loss: 0.1909 - categorical_accuracy: 0.9057 - val_loss: 0.2445 - val_categorical_accuracy: 0.8987 - lr: 5.1334e-04\n",
            "Epoch 15/100\n",
            "124/124 [==============================] - 5s 36ms/step - loss: 0.1858 - categorical_accuracy: 0.9045 - val_loss: 0.2419 - val_categorical_accuracy: 0.9007 - lr: 4.8767e-04\n",
            "Epoch 16/100\n",
            "124/124 [==============================] - 7s 54ms/step - loss: 0.1851 - categorical_accuracy: 0.9052 - val_loss: 0.2392 - val_categorical_accuracy: 0.9027 - lr: 4.6329e-04\n",
            "Epoch 17/100\n",
            "124/124 [==============================] - 5s 36ms/step - loss: 0.1854 - categorical_accuracy: 0.9098 - val_loss: 0.2392 - val_categorical_accuracy: 0.8977 - lr: 4.4013e-04\n",
            "Epoch 18/100\n",
            "124/124 [==============================] - 5s 39ms/step - loss: 0.1796 - categorical_accuracy: 0.9073 - val_loss: 0.2371 - val_categorical_accuracy: 0.9027 - lr: 4.1812e-04\n",
            "Epoch 19/100\n",
            "124/124 [==============================] - 7s 54ms/step - loss: 0.1758 - categorical_accuracy: 0.9123 - val_loss: 0.2368 - val_categorical_accuracy: 0.8997 - lr: 3.9721e-04\n",
            "Epoch 20/100\n",
            "124/124 [==============================] - 5s 41ms/step - loss: 0.1759 - categorical_accuracy: 0.9093 - val_loss: 0.2343 - val_categorical_accuracy: 0.9047 - lr: 3.7735e-04\n",
            "Epoch 21/100\n",
            "124/124 [==============================] - 5s 36ms/step - loss: 0.1801 - categorical_accuracy: 0.9083 - val_loss: 0.2344 - val_categorical_accuracy: 0.9017 - lr: 3.5849e-04\n",
            "Epoch 22/100\n",
            "124/124 [==============================] - 8s 63ms/step - loss: 0.1691 - categorical_accuracy: 0.9078 - val_loss: 0.2346 - val_categorical_accuracy: 0.9017 - lr: 3.4056e-04\n",
            "Epoch 23/100\n",
            "124/124 [==============================] - 5s 36ms/step - loss: 0.1726 - categorical_accuracy: 0.9105 - val_loss: 0.2340 - val_categorical_accuracy: 0.9007 - lr: 3.2353e-04\n",
            "Epoch 24/100\n",
            "124/124 [==============================] - 5s 38ms/step - loss: 0.1723 - categorical_accuracy: 0.9103 - val_loss: 0.2319 - val_categorical_accuracy: 0.9047 - lr: 3.0736e-04\n",
            "Epoch 25/100\n",
            "124/124 [==============================] - 6s 49ms/step - loss: 0.1674 - categorical_accuracy: 0.9088 - val_loss: 0.2306 - val_categorical_accuracy: 0.9047 - lr: 2.9199e-04\n",
            "Epoch 26/100\n",
            "124/124 [==============================] - 8s 61ms/step - loss: 0.1683 - categorical_accuracy: 0.9115 - val_loss: 0.2303 - val_categorical_accuracy: 0.9047 - lr: 2.7739e-04\n",
            "Epoch 27/100\n",
            "124/124 [==============================] - 5s 36ms/step - loss: 0.1636 - categorical_accuracy: 0.9131 - val_loss: 0.2301 - val_categorical_accuracy: 0.9047 - lr: 2.6352e-04\n",
            "Epoch 28/100\n",
            "124/124 [==============================] - 5s 37ms/step - loss: 0.1626 - categorical_accuracy: 0.9158 - val_loss: 0.2304 - val_categorical_accuracy: 0.9047 - lr: 2.5034e-04\n",
            "Epoch 29/100\n",
            "124/124 [==============================] - 7s 52ms/step - loss: 0.1588 - categorical_accuracy: 0.9181 - val_loss: 0.2284 - val_categorical_accuracy: 0.9057 - lr: 2.3783e-04\n",
            "Epoch 30/100\n",
            "124/124 [==============================] - 5s 41ms/step - loss: 0.1605 - categorical_accuracy: 0.9151 - val_loss: 0.2287 - val_categorical_accuracy: 0.9057 - lr: 2.2594e-04\n",
            "Epoch 31/100\n",
            "124/124 [==============================] - 6s 50ms/step - loss: 0.1605 - categorical_accuracy: 0.9161 - val_loss: 0.2291 - val_categorical_accuracy: 0.9027 - lr: 2.1464e-04\n",
            "Epoch 32/100\n",
            "124/124 [==============================] - 5s 36ms/step - loss: 0.1611 - categorical_accuracy: 0.9128 - val_loss: 0.2277 - val_categorical_accuracy: 0.9057 - lr: 2.0391e-04\n",
            "Epoch 33/100\n",
            "124/124 [==============================] - 6s 48ms/step - loss: 0.1596 - categorical_accuracy: 0.9196 - val_loss: 0.2284 - val_categorical_accuracy: 0.9047 - lr: 1.9371e-04\n",
            "Epoch 34/100\n",
            "124/124 [==============================] - 6s 43ms/step - loss: 0.1588 - categorical_accuracy: 0.9143 - val_loss: 0.2276 - val_categorical_accuracy: 0.9047 - lr: 1.8403e-04\n",
            "Epoch 35/100\n",
            "124/124 [==============================] - 7s 53ms/step - loss: 0.1552 - categorical_accuracy: 0.9181 - val_loss: 0.2282 - val_categorical_accuracy: 0.9057 - lr: 1.7482e-04\n",
            "Epoch 36/100\n",
            "124/124 [==============================] - 5s 36ms/step - loss: 0.1577 - categorical_accuracy: 0.9143 - val_loss: 0.2271 - val_categorical_accuracy: 0.9067 - lr: 1.6608e-04\n",
            "Epoch 37/100\n",
            "124/124 [==============================] - 5s 40ms/step - loss: 0.1565 - categorical_accuracy: 0.9103 - val_loss: 0.2271 - val_categorical_accuracy: 0.9037 - lr: 1.5778e-04\n",
            "Epoch 38/100\n",
            "124/124 [==============================] - 6s 49ms/step - loss: 0.1588 - categorical_accuracy: 0.9178 - val_loss: 0.2277 - val_categorical_accuracy: 0.9047 - lr: 1.4989e-04\n",
            "Epoch 39/100\n",
            "124/124 [==============================] - 8s 61ms/step - loss: 0.1551 - categorical_accuracy: 0.9201 - val_loss: 0.2270 - val_categorical_accuracy: 0.9047 - lr: 1.4240e-04\n",
            "Epoch 40/100\n",
            "124/124 [==============================] - 5s 37ms/step - loss: 0.1565 - categorical_accuracy: 0.9209 - val_loss: 0.2268 - val_categorical_accuracy: 0.9057 - lr: 1.3528e-04\n",
            "Epoch 41/100\n",
            "124/124 [==============================] - 7s 53ms/step - loss: 0.1567 - categorical_accuracy: 0.9156 - val_loss: 0.2265 - val_categorical_accuracy: 0.9047 - lr: 1.2851e-04\n",
            "Epoch 42/100\n",
            "124/124 [==============================] - 5s 35ms/step - loss: 0.1515 - categorical_accuracy: 0.9199 - val_loss: 0.2268 - val_categorical_accuracy: 0.9057 - lr: 1.2209e-04\n",
            "Epoch 43/100\n",
            "124/124 [==============================] - 7s 53ms/step - loss: 0.1489 - categorical_accuracy: 0.9211 - val_loss: 0.2267 - val_categorical_accuracy: 0.9047 - lr: 1.1598e-04\n",
            "Epoch 44/100\n",
            "124/124 [==============================] - 5s 37ms/step - loss: 0.1524 - categorical_accuracy: 0.9161 - val_loss: 0.2258 - val_categorical_accuracy: 0.9057 - lr: 1.1018e-04\n",
            "Epoch 45/100\n",
            "124/124 [==============================] - 5s 39ms/step - loss: 0.1579 - categorical_accuracy: 0.9153 - val_loss: 0.2257 - val_categorical_accuracy: 0.9077 - lr: 1.0467e-04\n",
            "Epoch 46/100\n",
            "124/124 [==============================] - 7s 50ms/step - loss: 0.1540 - categorical_accuracy: 0.9183 - val_loss: 0.2258 - val_categorical_accuracy: 0.9047 - lr: 9.9440e-05\n",
            "Epoch 47/100\n",
            "124/124 [==============================] - 5s 37ms/step - loss: 0.1536 - categorical_accuracy: 0.9163 - val_loss: 0.2259 - val_categorical_accuracy: 0.9067 - lr: 9.4468e-05\n",
            "Epoch 48/100\n",
            "124/124 [==============================] - 7s 51ms/step - loss: 0.1499 - categorical_accuracy: 0.9173 - val_loss: 0.2262 - val_categorical_accuracy: 0.9067 - lr: 8.9745e-05\n",
            "Epoch 49/100\n",
            "124/124 [==============================] - 5s 39ms/step - loss: 0.1489 - categorical_accuracy: 0.9214 - val_loss: 0.2260 - val_categorical_accuracy: 0.9057 - lr: 8.5258e-05\n",
            "Epoch 50/100\n",
            "124/124 [==============================] - 7s 54ms/step - loss: 0.1514 - categorical_accuracy: 0.9189 - val_loss: 0.2253 - val_categorical_accuracy: 0.9057 - lr: 8.0995e-05\n",
            "Epoch 51/100\n",
            "124/124 [==============================] - 5s 37ms/step - loss: 0.1553 - categorical_accuracy: 0.9153 - val_loss: 0.2254 - val_categorical_accuracy: 0.9067 - lr: 7.6945e-05\n",
            "Epoch 52/100\n",
            "124/124 [==============================] - 8s 61ms/step - loss: 0.1549 - categorical_accuracy: 0.9173 - val_loss: 0.2254 - val_categorical_accuracy: 0.9057 - lr: 7.3098e-05\n",
            "Epoch 53/100\n",
            "124/124 [==============================] - 5s 36ms/step - loss: 0.1522 - categorical_accuracy: 0.9176 - val_loss: 0.2253 - val_categorical_accuracy: 0.9077 - lr: 6.9443e-05\n",
            "Epoch 54/100\n",
            "124/124 [==============================] - 7s 53ms/step - loss: 0.1536 - categorical_accuracy: 0.9115 - val_loss: 0.2251 - val_categorical_accuracy: 0.9077 - lr: 6.5971e-05\n",
            "Epoch 55/100\n",
            "124/124 [==============================] - 5s 37ms/step - loss: 0.1459 - categorical_accuracy: 0.9214 - val_loss: 0.2251 - val_categorical_accuracy: 0.9077 - lr: 6.2672e-05\n",
            "Epoch 56/100\n",
            "124/124 [==============================] - 5s 37ms/step - loss: 0.1554 - categorical_accuracy: 0.9141 - val_loss: 0.2253 - val_categorical_accuracy: 0.9077 - lr: 5.9539e-05\n",
            "Epoch 57/100\n",
            "124/124 [==============================] - 7s 53ms/step - loss: 0.1492 - categorical_accuracy: 0.9186 - val_loss: 0.2252 - val_categorical_accuracy: 0.9057 - lr: 5.6562e-05\n",
            "Epoch 58/100\n",
            "124/124 [==============================] - 5s 38ms/step - loss: 0.1489 - categorical_accuracy: 0.9166 - val_loss: 0.2252 - val_categorical_accuracy: 0.9067 - lr: 5.3734e-05\n",
            "Epoch 59/100\n",
            "124/124 [==============================] - 7s 50ms/step - loss: 0.1504 - categorical_accuracy: 0.9173 - val_loss: 0.2251 - val_categorical_accuracy: 0.9057 - lr: 5.1047e-05\n",
            "Epoch 60/100\n",
            "124/124 [==============================] - 5s 36ms/step - loss: 0.1509 - categorical_accuracy: 0.9214 - val_loss: 0.2250 - val_categorical_accuracy: 0.9057 - lr: 4.8495e-05\n",
            "Epoch 61/100\n",
            "124/124 [==============================] - 8s 61ms/step - loss: 0.1498 - categorical_accuracy: 0.9161 - val_loss: 0.2248 - val_categorical_accuracy: 0.9027 - lr: 4.6070e-05\n",
            "Epoch 62/100\n",
            "124/124 [==============================] - 5s 36ms/step - loss: 0.1496 - categorical_accuracy: 0.9171 - val_loss: 0.2248 - val_categorical_accuracy: 0.9047 - lr: 4.3766e-05\n",
            "Epoch 63/100\n",
            "124/124 [==============================] - 5s 41ms/step - loss: 0.1528 - categorical_accuracy: 0.9176 - val_loss: 0.2251 - val_categorical_accuracy: 0.9047 - lr: 4.1578e-05\n",
            "Epoch 64/100\n",
            "124/124 [==============================] - 5s 37ms/step - loss: 0.1451 - categorical_accuracy: 0.9216 - val_loss: 0.2246 - val_categorical_accuracy: 0.9047 - lr: 3.9499e-05\n",
            "Epoch 65/100\n",
            "124/124 [==============================] - 7s 53ms/step - loss: 0.1502 - categorical_accuracy: 0.9199 - val_loss: 0.2246 - val_categorical_accuracy: 0.9067 - lr: 3.7524e-05\n",
            "Epoch 66/100\n",
            "124/124 [==============================] - 5s 37ms/step - loss: 0.1513 - categorical_accuracy: 0.9189 - val_loss: 0.2246 - val_categorical_accuracy: 0.9057 - lr: 3.5648e-05\n",
            "Epoch 67/100\n",
            "124/124 [==============================] - 5s 36ms/step - loss: 0.1474 - categorical_accuracy: 0.9181 - val_loss: 0.2246 - val_categorical_accuracy: 0.9067 - lr: 3.3866e-05\n",
            "Epoch 68/100\n",
            "124/124 [==============================] - 7s 53ms/step - loss: 0.1499 - categorical_accuracy: 0.9183 - val_loss: 0.2246 - val_categorical_accuracy: 0.9087 - lr: 3.2172e-05\n",
            "Epoch 69/100\n",
            "124/124 [==============================] - 5s 36ms/step - loss: 0.1498 - categorical_accuracy: 0.9153 - val_loss: 0.2245 - val_categorical_accuracy: 0.9067 - lr: 3.0564e-05\n",
            "Epoch 70/100\n",
            "124/124 [==============================] - 6s 49ms/step - loss: 0.1472 - categorical_accuracy: 0.9181 - val_loss: 0.2244 - val_categorical_accuracy: 0.9067 - lr: 2.9035e-05\n",
            "Epoch 71/100\n",
            "124/124 [==============================] - 5s 37ms/step - loss: 0.1487 - categorical_accuracy: 0.9166 - val_loss: 0.2247 - val_categorical_accuracy: 0.9077 - lr: 2.7584e-05\n",
            "Epoch 72/100\n",
            "124/124 [==============================] - 7s 56ms/step - loss: 0.1501 - categorical_accuracy: 0.9158 - val_loss: 0.2244 - val_categorical_accuracy: 0.9087 - lr: 2.6205e-05\n",
            "Epoch 73/100\n",
            "124/124 [==============================] - 5s 38ms/step - loss: 0.1448 - categorical_accuracy: 0.9246 - val_loss: 0.2247 - val_categorical_accuracy: 0.9077 - lr: 2.4894e-05\n",
            "Epoch 74/100\n",
            "124/124 [==============================] - 7s 57ms/step - loss: 0.1508 - categorical_accuracy: 0.9206 - val_loss: 0.2246 - val_categorical_accuracy: 0.9077 - lr: 2.3650e-05\n",
            "Epoch 75/100\n",
            "124/124 [==============================] - 5s 38ms/step - loss: 0.1497 - categorical_accuracy: 0.9161 - val_loss: 0.2245 - val_categorical_accuracy: 0.9077 - lr: 2.2467e-05\n",
            "Epoch 76/100\n",
            "124/124 [==============================] - 9s 68ms/step - loss: 0.1506 - categorical_accuracy: 0.9161 - val_loss: 0.2247 - val_categorical_accuracy: 0.9057 - lr: 2.1344e-05\n",
            "Epoch 77/100\n",
            "124/124 [==============================] - 5s 38ms/step - loss: 0.1482 - categorical_accuracy: 0.9201 - val_loss: 0.2247 - val_categorical_accuracy: 0.9057 - lr: 2.0277e-05\n",
            "Epoch 78/100\n",
            "124/124 [==============================] - 8s 62ms/step - loss: 0.1423 - categorical_accuracy: 0.9189 - val_loss: 0.2245 - val_categorical_accuracy: 0.9067 - lr: 1.9263e-05\n",
            "Epoch 79/100\n",
            "124/124 [==============================] - 5s 37ms/step - loss: 0.1476 - categorical_accuracy: 0.9168 - val_loss: 0.2245 - val_categorical_accuracy: 0.9077 - lr: 1.8300e-05\n",
            "Epoch 80/100\n",
            "124/124 [==============================] - 7s 56ms/step - loss: 0.1468 - categorical_accuracy: 0.9226 - val_loss: 0.2246 - val_categorical_accuracy: 0.9067 - lr: 1.7385e-05\n",
            "Epoch 81/100\n",
            "124/124 [==============================] - 5s 38ms/step - loss: 0.1468 - categorical_accuracy: 0.9221 - val_loss: 0.2243 - val_categorical_accuracy: 0.9067 - lr: 1.6515e-05\n",
            "Epoch 82/100\n",
            "124/124 [==============================] - 5s 38ms/step - loss: 0.1415 - categorical_accuracy: 0.9221 - val_loss: 0.2242 - val_categorical_accuracy: 0.9077 - lr: 1.5690e-05\n",
            "Epoch 83/100\n",
            "124/124 [==============================] - 7s 54ms/step - loss: 0.1454 - categorical_accuracy: 0.9189 - val_loss: 0.2242 - val_categorical_accuracy: 0.9067 - lr: 1.4905e-05\n",
            "Epoch 84/100\n",
            "124/124 [==============================] - 5s 36ms/step - loss: 0.1463 - categorical_accuracy: 0.9189 - val_loss: 0.2242 - val_categorical_accuracy: 0.9067 - lr: 1.4160e-05\n",
            "Epoch 85/100\n",
            "124/124 [==============================] - 7s 51ms/step - loss: 0.1547 - categorical_accuracy: 0.9075 - val_loss: 0.2241 - val_categorical_accuracy: 0.9067 - lr: 1.3452e-05\n",
            "Epoch 86/100\n",
            "124/124 [==============================] - 5s 36ms/step - loss: 0.1456 - categorical_accuracy: 0.9226 - val_loss: 0.2241 - val_categorical_accuracy: 0.9067 - lr: 1.2779e-05\n",
            "Epoch 87/100\n",
            "124/124 [==============================] - 8s 61ms/step - loss: 0.1480 - categorical_accuracy: 0.9183 - val_loss: 0.2241 - val_categorical_accuracy: 0.9067 - lr: 1.2140e-05\n",
            "Epoch 88/100\n",
            "124/124 [==============================] - 5s 36ms/step - loss: 0.1410 - categorical_accuracy: 0.9252 - val_loss: 0.2242 - val_categorical_accuracy: 0.9077 - lr: 1.1533e-05\n",
            "Epoch 89/100\n",
            "124/124 [==============================] - 5s 40ms/step - loss: 0.1407 - categorical_accuracy: 0.9214 - val_loss: 0.2242 - val_categorical_accuracy: 0.9077 - lr: 1.0957e-05\n",
            "Epoch 90/100\n",
            "124/124 [==============================] - 5s 38ms/step - loss: 0.1479 - categorical_accuracy: 0.9189 - val_loss: 0.2241 - val_categorical_accuracy: 0.9077 - lr: 1.0409e-05\n",
            "Epoch 91/100\n",
            "124/124 [==============================] - 7s 54ms/step - loss: 0.1482 - categorical_accuracy: 0.9171 - val_loss: 0.2241 - val_categorical_accuracy: 0.9087 - lr: 9.8884e-06\n",
            "Epoch 92/100\n",
            "124/124 [==============================] - 5s 36ms/step - loss: 0.1446 - categorical_accuracy: 0.9151 - val_loss: 0.2242 - val_categorical_accuracy: 0.9087 - lr: 9.3939e-06\n",
            "Epoch 93/100\n",
            "124/124 [==============================] - 5s 37ms/step - loss: 0.1423 - categorical_accuracy: 0.9204 - val_loss: 0.2242 - val_categorical_accuracy: 0.9097 - lr: 8.9242e-06\n",
            "Epoch 94/100\n",
            "124/124 [==============================] - 7s 54ms/step - loss: 0.1451 - categorical_accuracy: 0.9206 - val_loss: 0.2241 - val_categorical_accuracy: 0.9087 - lr: 8.4780e-06\n",
            "Epoch 95/100\n",
            "124/124 [==============================] - 5s 36ms/step - loss: 0.1439 - categorical_accuracy: 0.9221 - val_loss: 0.2241 - val_categorical_accuracy: 0.9077 - lr: 8.0541e-06\n",
            "Epoch 96/100\n",
            "124/124 [==============================] - 7s 51ms/step - loss: 0.1435 - categorical_accuracy: 0.9199 - val_loss: 0.2240 - val_categorical_accuracy: 0.9087 - lr: 7.6514e-06\n",
            "Epoch 97/100\n",
            "124/124 [==============================] - 5s 37ms/step - loss: 0.1465 - categorical_accuracy: 0.9189 - val_loss: 0.2239 - val_categorical_accuracy: 0.9077 - lr: 7.2689e-06\n",
            "Epoch 98/100\n",
            "124/124 [==============================] - 7s 52ms/step - loss: 0.1391 - categorical_accuracy: 0.9226 - val_loss: 0.2240 - val_categorical_accuracy: 0.9087 - lr: 6.9054e-06\n",
            "Epoch 99/100\n",
            "124/124 [==============================] - 5s 37ms/step - loss: 0.1434 - categorical_accuracy: 0.9214 - val_loss: 0.2240 - val_categorical_accuracy: 0.9087 - lr: 6.5601e-06\n",
            "Epoch 100/100\n",
            "124/124 [==============================] - 7s 54ms/step - loss: 0.1556 - categorical_accuracy: 0.9153 - val_loss: 0.2240 - val_categorical_accuracy: 0.9077 - lr: 6.2321e-06\n"
          ]
        }
      ]
    },
    {
      "cell_type": "code",
      "source": [
        "loss, acc = model.evaluate(test_data, batch_size=1)\n",
        "print(f\"Test loss: {loss:.4f}, Test accuracy: {acc:.2%}\")"
      ],
      "metadata": {
        "id": "0V6OCj8JSMmj",
        "colab": {
          "base_uri": "https://localhost:8080/"
        },
        "outputId": "21d6fc83-2111-4ba9-d5c1-a333c20a1a4d"
      },
      "execution_count": 17,
      "outputs": [
        {
          "output_type": "stream",
          "name": "stdout",
          "text": [
            "1275/1275 [==============================] - 5s 4ms/step - loss: 0.1547 - categorical_accuracy: 0.9325\n",
            "Test loss: 0.1547, Test accuracy: 93.25%\n"
          ]
        }
      ]
    },
    {
      "cell_type": "code",
      "source": [
        "model.export_model(\"model.task\")"
      ],
      "metadata": {
        "id": "kmcb1tQxcI28",
        "colab": {
          "base_uri": "https://localhost:8080/"
        },
        "outputId": "deb3a769-e0fc-4940-fb72-5bb130fbf7d7"
      },
      "execution_count": null,
      "outputs": [
        {
          "output_type": "stream",
          "name": "stdout",
          "text": [
            "Downloading https://storage.googleapis.com/mediapipe-assets/gesture_embedder.tflite to /tmp/model_maker/gesture_recognizer/gesture_embedder.tflite\n",
            "Using existing files at /tmp/model_maker/gesture_recognizer/palm_detection_full.tflite\n",
            "Using existing files at /tmp/model_maker/gesture_recognizer/hand_landmark_full.tflite\n",
            "Downloading https://storage.googleapis.com/mediapipe-assets/canned_gesture_classifier.tflite to /tmp/model_maker/gesture_recognizer/canned_gesture_classifier.tflite\n"
          ]
        }
      ]
    },
    {
      "cell_type": "code",
      "source": [
        "dataset_root = pathlib.Path(\"/content/processed_data/test\")\n",
        "testfiles = list(dataset_root.glob(\"**/*.jpg\"))  # Semua file JPG dalam dataset"
      ],
      "metadata": {
        "id": "sEQ3X2BygS9-"
      },
      "execution_count": null,
      "outputs": []
    },
    {
      "cell_type": "code",
      "source": [
        "filename = np.random.choice(testfiles)"
      ],
      "metadata": {
        "id": "wWF1geOlg1UW"
      },
      "execution_count": null,
      "outputs": []
    },
    {
      "cell_type": "code",
      "source": [
        "print(len(testfiles), testfiles[:10])  # Periksa jumlah dan contoh file gambar"
      ],
      "metadata": {
        "id": "vbAHQLBIhZDo",
        "colab": {
          "base_uri": "https://localhost:8080/"
        },
        "outputId": "6c913140-7456-4582-a0ae-75e58709fb4f"
      },
      "execution_count": null,
      "outputs": [
        {
          "output_type": "stream",
          "name": "stdout",
          "text": [
            "1404 [PosixPath('/content/processed_data/test/D/IMG_20241117_195148.jpg'), PosixPath('/content/processed_data/test/D/IMG_20241025_192748.jpg'), PosixPath('/content/processed_data/test/D/IMG_20241117_195306.jpg'), PosixPath('/content/processed_data/test/D/IMG_20241117_195204.jpg'), PosixPath('/content/processed_data/test/D/IMG_20241025_093330.jpg'), PosixPath('/content/processed_data/test/D/IMG_20220224_172048.jpg'), PosixPath('/content/processed_data/test/D/Screenshot_20241024_222239_aug.jpg'), PosixPath('/content/processed_data/test/D/IMG_20220221_104349_aug.jpg'), PosixPath('/content/processed_data/test/D/IMG_20241025_093327.jpg'), PosixPath('/content/processed_data/test/D/IMG_20241117_195142.jpg')]\n"
          ]
        }
      ]
    },
    {
      "cell_type": "code",
      "source": [
        "import mediapipe as mp\n",
        "from mediapipe.tasks.python.vision.gesture_recognizer import GestureRecognizer\n",
        "\n",
        "base_options = mp.tasks.BaseOptions(\n",
        "    model_asset_path=hparams.export_dir + \"/model.task\"\n",
        ")\n",
        "options = mp.tasks.vision.GestureRecognizerOptions(\n",
        "    base_options=base_options, running_mode=mp.tasks.vision.RunningMode.IMAGE\n",
        ")\n",
        "\n",
        "with GestureRecognizer.create_from_options(options) as recognizer:\n",
        "    mp_image = mp.Image.create_from_file(str(filename))\n",
        "    result = recognizer.recognize(mp_image)\n"
      ],
      "metadata": {
        "id": "B_D6wKF6c6_a"
      },
      "execution_count": null,
      "outputs": []
    },
    {
      "cell_type": "code",
      "source": [
        "test_samples = np.random.choice(np.asarray(testfiles), 10)\n",
        "\n",
        "with GestureRecognizer.create_from_options(options) as recognizer:\n",
        "    fig, axarr = utils.plot_recognizer_predictions(test_samples, recognizer, 5)\n",
        "fig.savefig(\"example-output.jpg\", dpi=150, bbox_inches=\"tight\")"
      ],
      "metadata": {
        "id": "7Pyn-8jmg6RU"
      },
      "execution_count": null,
      "outputs": []
    },
    {
      "cell_type": "code",
      "source": [
        "!pip install tqdm"
      ],
      "metadata": {
        "id": "AwvZHSufhBPF",
        "colab": {
          "base_uri": "https://localhost:8080/"
        },
        "outputId": "678615d4-6742-4b12-8c64-c1d0d021bb02"
      },
      "execution_count": null,
      "outputs": [
        {
          "output_type": "stream",
          "name": "stdout",
          "text": [
            "Requirement already satisfied: tqdm in /usr/local/lib/python3.11/dist-packages (4.67.1)\n"
          ]
        }
      ]
    },
    {
      "cell_type": "code",
      "source": [
        "from tqdm import tqdm  # Tambahkan ini jika belum ada\n",
        "\n",
        "test_results = []\n",
        "with mp.tasks.vision.GestureRecognizer.create_from_options(options) as recognizer:\n",
        "    for filename in tqdm(testfiles, desc=\"Processing test files\"):\n",
        "        mp_image = mp.Image.create_from_file(str(filename))\n",
        "        result = recognizer.recognize(mp_image)\n",
        "        if len(result.gestures) > 0:\n",
        "            pred = result.gestures[0][0].category_name or \"n/a\"\n",
        "        else:\n",
        "            pred = \"empty\"\n",
        "        test_results.append((filename, filename.parent.name, pred))\n",
        "\n",
        "# Convert to DataFrame\n",
        "results_df = pd.DataFrame(test_results, columns=[\"filename\", \"label\", \"pred\"])\n"
      ],
      "metadata": {
        "id": "nSaBkNo1c_p3",
        "colab": {
          "base_uri": "https://localhost:8080/"
        },
        "outputId": "01c32ffb-94c0-4918-e3b0-eeea0a1dd5db"
      },
      "execution_count": null,
      "outputs": [
        {
          "output_type": "stream",
          "name": "stderr",
          "text": [
            "Processing test files: 100%|██████████| 1404/1404 [01:30<00:00, 15.52it/s]\n"
          ]
        }
      ]
    },
    {
      "cell_type": "code",
      "source": [
        "import matplotlib.pyplot as plt\n",
        "from sklearn.metrics import confusion_matrix, ConfusionMatrixDisplay\n",
        "import numpy as np\n",
        "import sklearn\n",
        "\n",
        "# Menentukan urutan kelas\n",
        "classes = sorted(test_data.label_names + [\"n/a\", \"empty\"])\n",
        "\n",
        "# Menghitung confusion matrix tanpa normalisasi\n",
        "cm = sklearn.metrics.confusion_matrix(\n",
        "    results_df[\"label\"], results_df[\"pred\"], labels=classes\n",
        ")\n",
        "\n",
        "# Membuat objek ConfusionMatrixDisplay\n",
        "disp = sklearn.metrics.ConfusionMatrixDisplay(cm, display_labels=classes)\n",
        "\n",
        "# Membuat figure dan axis\n",
        "fig, ax = plt.subplots()  # Menyesuaikan ukuran untuk visualisasi lebih baik\n",
        "\n",
        "# Plot confusion matrix tanpa grid\n",
        "disp.plot(include_values=False, cmap=\"Blues\", ax=ax)\n",
        "ax.grid(False)\n",
        "ax.set_facecolor(\"white\")\n",
        "\n",
        "# Menambahkan nilai pada sel, hanya jika tidak nol, dengan warna abu-abu\n",
        "for i in range(cm.shape[0]):\n",
        "    for j in range(cm.shape[1]):\n",
        "        if cm[i, j] != 0:  # Menampilkan nilai hanya jika bukan nol\n",
        "            ax.text(\n",
        "                j, i, f\"{cm[i, j]}\",\n",
        "                ha=\"center\", va=\"center\", color=\"gold\", fontsize=8\n",
        "            )\n",
        "\n",
        "# Menyimpan plot ke file dan menampilkannya\n",
        "plt.savefig(\"confusion_matrix_filtered_gray_text.png\", dpi=150, bbox_inches=\"tight\")\n",
        "plt.show()\n"
      ],
      "metadata": {
        "id": "ILAKMIpRbzNm"
      },
      "execution_count": null,
      "outputs": []
    },
    {
      "cell_type": "code",
      "source": [
        "from sklearn.metrics import classification_report, precision_score, recall_score, f1_score\n",
        "\n",
        "# Menambahkan kolom 'result' untuk mengevaluasi apakah prediksi benar atau salah\n",
        "results_df[\"result\"] = results_df[\"pred\"] == results_df[\"label\"]\n",
        "\n",
        "# Menghitung precision, recall, dan f1-score untuk masing-masing kelas\n",
        "report = classification_report(\n",
        "    results_df[\"label\"],\n",
        "    results_df[\"pred\"],\n",
        "    labels=results_df[\"label\"].unique(),  # Memastikan semua label muncul di laporan\n",
        "    zero_division=0\n",
        ")\n",
        "\n",
        "print(\"Classification Report:\")\n",
        "print(report)\n"
      ],
      "metadata": {
        "id": "Zt9Sa1hhOsTj",
        "colab": {
          "base_uri": "https://localhost:8080/"
        },
        "outputId": "2539dbdd-7f3b-4b34-812a-ff2fea39b00a"
      },
      "execution_count": null,
      "outputs": [
        {
          "output_type": "stream",
          "name": "stdout",
          "text": [
            "Classification Report:\n",
            "              precision    recall  f1-score   support\n",
            "\n",
            "           D       0.89      0.81      0.85        48\n",
            "           U       0.90      0.67      0.77        55\n",
            "           S       0.98      0.85      0.91        60\n",
            "           B       0.95      0.89      0.92        64\n",
            "           F       0.96      0.83      0.89        66\n",
            "           T       0.77      0.81      0.79        57\n",
            "           L       1.00      0.90      0.95        58\n",
            "           H       1.00      0.84      0.91        63\n",
            "           O       0.91      0.77      0.84        53\n",
            "           Y       1.00      0.95      0.97        60\n",
            "           M       1.00      0.83      0.91        60\n",
            "           E       0.98      0.89      0.93        64\n",
            "           C       1.00      0.75      0.86        48\n",
            "           X       0.98      0.74      0.84        68\n",
            "           A       1.00      0.97      0.99        69\n",
            "           V       0.96      0.80      0.88        61\n",
            "           I       0.95      0.91      0.93        64\n",
            "           G       1.00      0.75      0.85        63\n",
            "           R       0.89      0.77      0.82        61\n",
            "           W       1.00      0.88      0.94        59\n",
            "           N       0.98      0.93      0.96        60\n",
            "           Q       0.96      0.70      0.81        37\n",
            "           K       0.96      0.84      0.89        61\n",
            "           P       1.00      0.78      0.88        45\n",
            "\n",
            "   micro avg       0.96      0.83      0.89      1404\n",
            "   macro avg       0.96      0.83      0.89      1404\n",
            "weighted avg       0.96      0.83      0.89      1404\n",
            "\n"
          ]
        }
      ]
    },
    {
      "cell_type": "code",
      "source": [
        "from sklearn.metrics import classification_report, precision_score, recall_score, f1_score\n",
        "import pandas as pd\n",
        "\n",
        "# Menambahkan kolom 'result' untuk mengevaluasi apakah prediksi benar atau salah\n",
        "results_df[\"result\"] = results_df[\"pred\"] == results_df[\"label\"]\n",
        "\n",
        "# Menentukan urutan kelas dari A-Y\n",
        "classes = sorted(results_df[\"label\"].unique())  # Mengurutkan kelas dari A hingga Y\n",
        "\n",
        "# Menghitung precision, recall, dan f1-score untuk masing-masing kelas\n",
        "report = classification_report(\n",
        "    results_df[\"label\"],\n",
        "    results_df[\"pred\"],\n",
        "    labels=classes,  # Menambahkan urutan kelas\n",
        "    zero_division=0\n",
        ")\n",
        "\n",
        "print(\"Classification Report:\")\n",
        "print(report)\n",
        "\n",
        "# Menambahkan nilai rata-rata precision, recall, f1-score\n",
        "precision_avg = precision_score(results_df[\"label\"], results_df[\"pred\"], average='macro', zero_division=0)\n",
        "recall_avg = recall_score(results_df[\"label\"], results_df[\"pred\"], average='macro', zero_division=0)\n",
        "f1_avg = f1_score(results_df[\"label\"], results_df[\"pred\"], average='macro', zero_division=0)\n",
        "\n",
        "print(\"\\nAverage Metrics:\")\n",
        "print(f\"Precision (average): {precision_avg:.4f}\")\n",
        "print(f\"Recall (average): {recall_avg:.4f}\")\n",
        "print(f\"F1 Score (average): {f1_avg:.4f}\")\n"
      ],
      "metadata": {
        "id": "oio_ZOrGPioA"
      },
      "execution_count": null,
      "outputs": []
    },
    {
      "cell_type": "code",
      "source": [
        "# Mengelompokkan hasil prediksi\n",
        "results_df[\"result\"] = np.where(\n",
        "    results_df.pred == results_df.label,\n",
        "    \"correct\",\n",
        "    np.where(results_df.pred.isin([\"empty\", \"n/a\"]), \"not found\", \"incorrect\")\n",
        ")\n",
        "\n",
        "# Mengatur urutan kategori untuk kolom 'result'\n",
        "results_df[\"result\"] = pd.Categorical(\n",
        "    results_df[\"result\"],\n",
        "    categories=[\"not found\", \"incorrect\", \"correct\"],\n",
        "    ordered=True\n",
        ")\n",
        "\n",
        "# Membuat urutan kategori dari A hingga Y\n",
        "label_order = sorted(results_df[\"label\"].unique())  # Menyortir label secara alfabetis\n",
        "\n",
        "# Mengubah kolom 'label' menjadi kategori dengan urutan yang sudah ditentukan\n",
        "results_df[\"label\"] = pd.Categorical(results_df[\"label\"], categories=label_order, ordered=True)\n",
        "\n",
        "# Atur gaya dan tema seaborn\n",
        "sns.set_theme(style=\"whitegrid\")\n",
        "sns.set_palette(\"pastel\")\n",
        "\n",
        "# Membuat histogram dengan seaborn\n",
        "plt.figure(figsize=(12, 8))\n",
        "ax = sns.histplot(\n",
        "    data=results_df,\n",
        "    x=\"label\",\n",
        "    hue=\"result\",\n",
        "    multiple=\"stack\",\n",
        "    stat=\"count\",\n",
        "    palette={\"correct\": \"mediumseagreen\", \"incorrect\": \"coral\", \"not found\": \"gray\"},  # Urutan warna sesuai kategori\n",
        "    legend=True\n",
        ")\n",
        "\n",
        "# Menambahkan judul dan label\n",
        "plt.title(\"Prediction Results by Label\", fontsize=16)\n",
        "plt.xlabel(\"Labels\", fontsize=14)\n",
        "plt.ylabel(\"Count\", fontsize=14)\n",
        "\n",
        "# Menampilkan legenda secara eksplisit\n",
        "plt.legend(\n",
        "    title=\"Result\",\n",
        "    title_fontsize=14,\n",
        "    fontsize=12,\n",
        "    loc=\"upper right\",\n",
        "    labels=[\"Correct\", \"Incorrect\", \"Not Found\"]  # Disesuaikan dengan urutan kategori\n",
        ")\n",
        "\n",
        "# Menyimpan grafik\n",
        "plt.savefig(\"prediction_results_with_ordered_labels.png\", bbox_inches=\"tight\")\n",
        "plt.show()\n"
      ],
      "metadata": {
        "id": "tbyrKa52mzuv"
      },
      "execution_count": null,
      "outputs": []
    },
    {
      "cell_type": "code",
      "source": [
        "results_df.query(\"result == 'not found'\").groupby(\n",
        "    \"label\"\n",
        ").pred.value_counts().sort_values(ascending=False)"
      ],
      "metadata": {
        "id": "JMKD_8ubopRJ"
      },
      "execution_count": null,
      "outputs": []
    },
    {
      "cell_type": "code",
      "source": [
        "train_ds = train_data.gen_tf_dataset(batch_size=train_data.size)\n",
        "xy = train_ds.take(1).get_single_element()\n",
        "\n",
        "embeddings, classes_onehot = xy[0].numpy(), xy[1].numpy()  # type: ignore\n",
        "class_indices = np.argmax(classes_onehot, axis=1)\n",
        "\n",
        "print(embeddings.shape, class_indices.shape)\n",
        "# -> (1861, 128) (1861,)"
      ],
      "metadata": {
        "id": "8FgDD3moo0FU"
      },
      "execution_count": null,
      "outputs": []
    },
    {
      "cell_type": "code",
      "source": [
        "import sklearn.manifold\n",
        "\n",
        "tsne = sklearn.manifold.TSNE()\n",
        "emb = tsne.fit_transform(embeddings)\n"
      ],
      "metadata": {
        "id": "G8HYUd1VQc1M"
      },
      "execution_count": null,
      "outputs": []
    },
    {
      "cell_type": "code",
      "source": [
        "import seaborn as sns\n",
        "import pandas as pd\n",
        "\n",
        "embdf = pd.DataFrame(emb, columns=[\"X1\", \"X2\"]).assign(label=class_indices)\n",
        "sns.scatterplot(\n",
        "    data=embdf, x=\"X1\", y=\"X2\", hue=\"label\", palette=\"Spectral\", legend=False\n",
        ")\n",
        "for i, c in enumerate(train_data.label_names):\n",
        "    if np.all(class_indices != i):\n",
        "        continue\n",
        "    center = emb[class_indices == i].mean(axis=0)\n",
        "    plt.annotate(c, center, center - 6)\n",
        "    plt.savefig(\"result.png\")\n"
      ],
      "metadata": {
        "id": "x_G9ankgQtiI"
      },
      "execution_count": null,
      "outputs": []
    },
    {
      "cell_type": "code",
      "source": [
        "import seaborn as sns\n",
        "\n",
        "results_df[\"result\"] = np.where(\n",
        "    results_df.pred == results_df.label,\n",
        "    \"correct\",\n",
        "    np.where(results_df.pred.isin([\"n/a\", \"empty\"]), \"not found\", \"incorrect\"),\n",
        ")\n",
        "print(results_df.result.value_counts(normalize=True))\n",
        "sns.histplot(\n",
        "    data=results_df, x=\"label\", hue=\"result\", multiple=\"stack\", stat=\"count\"\n",
        ")"
      ],
      "metadata": {
        "id": "nNDm-tkhShMj"
      },
      "execution_count": null,
      "outputs": []
    },
    {
      "cell_type": "code",
      "source": [
        "import seaborn as sns\n",
        "import pandas as pd\n",
        "\n",
        "embdf = pd.DataFrame(emb, columns=[\"X1\", \"X2\"]).assign(label=class_indices)\n",
        "sns.scatterplot(\n",
        "    data=embdf, x=\"X1\", y=\"X2\", hue=\"label\", palette=\"Spectral\", legend=False\n",
        ")\n",
        "for i, c in enumerate(train_data.label_names):\n",
        "    if np.all(class_indices != i):\n",
        "        continue\n",
        "    center = emb[class_indices == i].mean(axis=0)\n",
        "    plt.annotate(c, center, center - 6)\n",
        "    plt.savefig(\"result.png\")\n"
      ],
      "metadata": {
        "id": "yEBdk--nS46v"
      },
      "execution_count": null,
      "outputs": []
    }
  ]
}